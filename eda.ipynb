{
 "cells": [
  {
   "cell_type": "markdown",
   "metadata": {},
   "source": [
    "# <center> Exploratory Data Analysis </center>\n",
    "## <center> 3$^{rd}$ Assignment - 2$^{nd}$ Notebook </center>\n",
    "### <center> By Group 80 for the course Advances in Data Mining of the University of Leiden taught by Wojtek Kowalczyk </center>\n",
    "<center> Lisa Dombrovskij (s1504819) - dombrovskij@strw.leidenuniv.nl </center>\n",
    "<center> Margherita Grespan (s2233150) - grespan@strw.leidenuniv.nl </center>\n",
    "\n",
    "***\n",
    "\n",
    "A graph is a system consisting of nodes and edges. Two nodes can be linked together by an edge and this link can be in a specific direction. For example, if we have a node A and a node B and there is a link in the direction from A to B, then A has an outgoing edge and B has an incoming edge. \n",
    "\n",
    "The data used for this project is compiled by Cristian Consonni, David Laniado, & Alberto Montresor (2019) and can be found [here](https://zenodo.org/record/2539424#.Xa2dvJMzZ-U). It consists of four columns showing links between pages on Wikipedia. It shows the title of the page and the page it links to, along with a unique ID for each page. The dataset now spans over 17 years, and each year a snapshot is taken of Wikipedia's link network. \n",
    "\n",
    "This link network is a graph, in which the nodes are pages and the edges are links between the pages. \n",
    "\n",
    "The probability of going from one page to the other can be represented by a transition matrix M.\n",
    "\n",
    "$$M = \\begin{bmatrix} \\frac{1}{2} & 0 & \\frac{1}{2} \\\\ 0 & \\frac{1}{2} & \\frac{1}{4} \\\\ \\frac{1}{2} & \\frac{1}{2} & \\frac{1}{4} \\end{bmatrix}$$\n",
    "\n",
    "In this case there are three nodes. Each column X lists the probability of going to Y. For example, say we have columns A, B and C and rows A, B and C, then the probability of going from node B to node C is $\\frac{1}{2}$.\n",
    "\n",
    "A graph can contain interesting systems, such as spider traps. This means that there is a probability of staying at the same node, this is a place you can get 'stuck' in. In the example transition matrix above, one can see a spider trap when going from A to A, for example.\n",
    "\n",
    "Another thing a graph can have is a dead end. This means that a node has incoming edges, but no outgoing edges, so once one gets to that node, it will stay there forever. \n",
    "\n",
    "To find the probabilities of ending up at each node, we use a vector v. This vector is initiated as follows:\n",
    "\n",
    "$$ v = \\begin{pmatrix} \\frac{1}{3} \\\\ \\frac{1}{3} \\\\ \\frac{1}{3} \\end{pmatrix}$$.\n",
    "\n",
    "We can then iterate the multiplication Mv to find the eventual vector v. If the graph is strongle connected, i.e. there is a path between any two nodes and there are no dead ends, then the sequence v, Mv, M(Mv), ... converges to v' such that v' is the principal eigen vector of matrix M. \n",
    "\n",
    "## Exploratory Work\n",
    "\n",
    "In this notebook some exploratory work is done on the dataset.\n",
    "\n",
    "We will look at:\n",
    "\n",
    "- __Dead ends__: How many notes are there without any outgoing edges?\n",
    "- __Distribution of in-degrees__: What is the number of incoming edges for every node?\n",
    "- __Distribution of out-degrees__: What is the number of outgoing edges for every node?\n",
    "\n",
    "We will also calculate the average in-degree and out-degree of the graph."
   ]
  },
  {
   "cell_type": "code",
   "execution_count": 10,
   "metadata": {},
   "outputs": [],
   "source": [
    "import numpy as np\n",
    "import pandas as pd\n",
    "import pickle\n",
    "from matplotlib import pyplot as plt\n",
    "import seaborn as sns\n"
   ]
  },
  {
   "cell_type": "code",
   "execution_count": 11,
   "metadata": {},
   "outputs": [],
   "source": [
    "#Load in the dataset\n",
    "with open('prepared_data', 'rb') as f:\n",
    "    data = pickle.load(f)"
   ]
  },
  {
   "cell_type": "code",
   "execution_count": 12,
   "metadata": {},
   "outputs": [
    {
     "data": {
      "text/html": [
       "<div>\n",
       "<style scoped>\n",
       "    .dataframe tbody tr th:only-of-type {\n",
       "        vertical-align: middle;\n",
       "    }\n",
       "\n",
       "    .dataframe tbody tr th {\n",
       "        vertical-align: top;\n",
       "    }\n",
       "\n",
       "    .dataframe thead th {\n",
       "        text-align: right;\n",
       "    }\n",
       "</style>\n",
       "<table border=\"1\" class=\"dataframe\">\n",
       "  <thead>\n",
       "    <tr style=\"text-align: right;\">\n",
       "      <th></th>\n",
       "      <th>new_page_id_from</th>\n",
       "      <th>new_page_id_to</th>\n",
       "    </tr>\n",
       "  </thead>\n",
       "  <tbody>\n",
       "    <tr>\n",
       "      <th>0</th>\n",
       "      <td>0</td>\n",
       "      <td>18381</td>\n",
       "    </tr>\n",
       "    <tr>\n",
       "      <th>1</th>\n",
       "      <td>0</td>\n",
       "      <td>19179</td>\n",
       "    </tr>\n",
       "    <tr>\n",
       "      <th>2</th>\n",
       "      <td>0</td>\n",
       "      <td>18382</td>\n",
       "    </tr>\n",
       "    <tr>\n",
       "      <th>3</th>\n",
       "      <td>0</td>\n",
       "      <td>18501</td>\n",
       "    </tr>\n",
       "    <tr>\n",
       "      <th>4</th>\n",
       "      <td>0</td>\n",
       "      <td>18502</td>\n",
       "    </tr>\n",
       "  </tbody>\n",
       "</table>\n",
       "</div>"
      ],
      "text/plain": [
       "   new_page_id_from  new_page_id_to\n",
       "0                 0           18381\n",
       "1                 0           19179\n",
       "2                 0           18382\n",
       "3                 0           18501\n",
       "4                 0           18502"
      ]
     },
     "execution_count": 12,
     "metadata": {},
     "output_type": "execute_result"
    }
   ],
   "source": [
    "data.head()"
   ]
  },
  {
   "cell_type": "markdown",
   "metadata": {},
   "source": [
    "As can be seen in the 'prep' notebook, the dataset consists of two columns: 'new_page_id_from' and 'new_page_id_to'. Every row is a link between two pages, denoted by their ID's."
   ]
  },
  {
   "cell_type": "code",
   "execution_count": 13,
   "metadata": {},
   "outputs": [
    {
     "name": "stdout",
     "output_type": "stream",
     "text": [
      "Total amount of unique ID's/pages/nodes in the dataset: 248193\n"
     ]
    }
   ],
   "source": [
    "n_nodes = len(pd.unique(data[['new_page_id_from', 'new_page_id_to']].values.ravel('K')))\n",
    "print(\"Total amount of unique ID's/pages/nodes in the dataset: {}\".format(n_nodes))"
   ]
  },
  {
   "cell_type": "markdown",
   "metadata": {},
   "source": [
    "Nodes without outgoing edges will only have links to them, but will not link to any page. This means that they can be found in the 'new_page_id_to' column, but not in the 'new_page_id_to' column."
   ]
  },
  {
   "cell_type": "code",
   "execution_count": 14,
   "metadata": {},
   "outputs": [],
   "source": [
    "#This extracts the unique IDs that can be found in the new_page_id_to column but not in new_page_id_from\n",
    "nodes_no_outgoing_edges = data.loc[~data.new_page_id_to.isin(data.new_page_id_from)].new_page_id_to.unique()"
   ]
  },
  {
   "cell_type": "code",
   "execution_count": 15,
   "metadata": {},
   "outputs": [
    {
     "name": "stdout",
     "output_type": "stream",
     "text": [
      "Number of unique nodes without outgoing edges: 17369\n"
     ]
    }
   ],
   "source": [
    "n_no_outgoing = len(nodes_no_outgoing_edges) #amount of nodes without outgoing edges\n",
    "print(\"Number of unique nodes without outgoing edges: {}\".format(n_no_outgoing))"
   ]
  },
  {
   "cell_type": "markdown",
   "metadata": {},
   "source": [
    "For each node we can count the amount of incoming edges by counting how many times the node occurs in the 'new_page_id_to' column. "
   ]
  },
  {
   "cell_type": "code",
   "execution_count": 16,
   "metadata": {},
   "outputs": [],
   "source": [
    "n_incoming_count = data.groupby('new_page_id_to').size().reset_index(name = 'n_incoming') #Count n_incoming per node"
   ]
  },
  {
   "cell_type": "code",
   "execution_count": 17,
   "metadata": {},
   "outputs": [],
   "source": [
    "temp = pd.DataFrame({'page_id':np.arange(n_nodes)}) #Temporary dataframe containing all IDs"
   ]
  },
  {
   "cell_type": "code",
   "execution_count": 18,
   "metadata": {},
   "outputs": [],
   "source": [
    "#n_incoming_count only contains ID's that have incoming edges\n",
    "#Merge the temporary dataframe with the n_incoming count to have all IDs in the table\n",
    "n_incoming = pd.merge(temp, n_incoming_count, left_on = 'page_id', right_on = 'new_page_id_to', how='outer').fillna(0)\n",
    "n_incoming.drop(columns = ['new_page_id_to'], inplace=True)"
   ]
  },
  {
   "cell_type": "code",
   "execution_count": 19,
   "metadata": {},
   "outputs": [
    {
     "data": {
      "text/html": [
       "<div>\n",
       "<style scoped>\n",
       "    .dataframe tbody tr th:only-of-type {\n",
       "        vertical-align: middle;\n",
       "    }\n",
       "\n",
       "    .dataframe tbody tr th {\n",
       "        vertical-align: top;\n",
       "    }\n",
       "\n",
       "    .dataframe thead th {\n",
       "        text-align: right;\n",
       "    }\n",
       "</style>\n",
       "<table border=\"1\" class=\"dataframe\">\n",
       "  <thead>\n",
       "    <tr style=\"text-align: right;\">\n",
       "      <th></th>\n",
       "      <th>page_id</th>\n",
       "      <th>n_incoming</th>\n",
       "    </tr>\n",
       "  </thead>\n",
       "  <tbody>\n",
       "    <tr>\n",
       "      <th>0</th>\n",
       "      <td>0</td>\n",
       "      <td>210.0</td>\n",
       "    </tr>\n",
       "    <tr>\n",
       "      <th>1</th>\n",
       "      <td>1</td>\n",
       "      <td>55.0</td>\n",
       "    </tr>\n",
       "    <tr>\n",
       "      <th>2</th>\n",
       "      <td>2</td>\n",
       "      <td>90.0</td>\n",
       "    </tr>\n",
       "    <tr>\n",
       "      <th>3</th>\n",
       "      <td>3</td>\n",
       "      <td>98.0</td>\n",
       "    </tr>\n",
       "    <tr>\n",
       "      <th>4</th>\n",
       "      <td>4</td>\n",
       "      <td>430.0</td>\n",
       "    </tr>\n",
       "  </tbody>\n",
       "</table>\n",
       "</div>"
      ],
      "text/plain": [
       "   page_id  n_incoming\n",
       "0        0       210.0\n",
       "1        1        55.0\n",
       "2        2        90.0\n",
       "3        3        98.0\n",
       "4        4       430.0"
      ]
     },
     "execution_count": 19,
     "metadata": {},
     "output_type": "execute_result"
    }
   ],
   "source": [
    "n_incoming.head()"
   ]
  },
  {
   "cell_type": "markdown",
   "metadata": {},
   "source": [
    "The first five entries in the n_incoming table are shown above. It shows every page ID in the page_id column and then amount of incoming edges per page ID in the n_incoming column. "
   ]
  },
  {
   "cell_type": "code",
   "execution_count": 20,
   "metadata": {},
   "outputs": [],
   "source": [
    "#Count n_outgoing\n",
    "n_outgoing_count = data.groupby('new_page_id_from').size().reset_index(name = 'n_outgoing')"
   ]
  },
  {
   "cell_type": "code",
   "execution_count": 21,
   "metadata": {},
   "outputs": [],
   "source": [
    "#n_outgoing_count only contains ID's that have outgoing edges\n",
    "#Merge the temporary dataframe with the n_outgoing count to have all IDs in the table\n",
    "n_outgoing = pd.merge(temp, n_outgoing_count, left_on = 'page_id', right_on = 'new_page_id_from', how='outer').fillna(0)\n",
    "n_outgoing.drop(columns = ['new_page_id_from'], inplace=True)"
   ]
  },
  {
   "cell_type": "code",
   "execution_count": 22,
   "metadata": {},
   "outputs": [
    {
     "data": {
      "text/html": [
       "<div>\n",
       "<style scoped>\n",
       "    .dataframe tbody tr th:only-of-type {\n",
       "        vertical-align: middle;\n",
       "    }\n",
       "\n",
       "    .dataframe tbody tr th {\n",
       "        vertical-align: top;\n",
       "    }\n",
       "\n",
       "    .dataframe thead th {\n",
       "        text-align: right;\n",
       "    }\n",
       "</style>\n",
       "<table border=\"1\" class=\"dataframe\">\n",
       "  <thead>\n",
       "    <tr style=\"text-align: right;\">\n",
       "      <th></th>\n",
       "      <th>page_id</th>\n",
       "      <th>n_outgoing</th>\n",
       "    </tr>\n",
       "  </thead>\n",
       "  <tbody>\n",
       "    <tr>\n",
       "      <th>0</th>\n",
       "      <td>0</td>\n",
       "      <td>193.0</td>\n",
       "    </tr>\n",
       "    <tr>\n",
       "      <th>1</th>\n",
       "      <td>1</td>\n",
       "      <td>21.0</td>\n",
       "    </tr>\n",
       "    <tr>\n",
       "      <th>2</th>\n",
       "      <td>2</td>\n",
       "      <td>22.0</td>\n",
       "    </tr>\n",
       "    <tr>\n",
       "      <th>3</th>\n",
       "      <td>3</td>\n",
       "      <td>61.0</td>\n",
       "    </tr>\n",
       "    <tr>\n",
       "      <th>4</th>\n",
       "      <td>4</td>\n",
       "      <td>47.0</td>\n",
       "    </tr>\n",
       "  </tbody>\n",
       "</table>\n",
       "</div>"
      ],
      "text/plain": [
       "   page_id  n_outgoing\n",
       "0        0       193.0\n",
       "1        1        21.0\n",
       "2        2        22.0\n",
       "3        3        61.0\n",
       "4        4        47.0"
      ]
     },
     "execution_count": 22,
     "metadata": {},
     "output_type": "execute_result"
    }
   ],
   "source": [
    "n_outgoing.head()"
   ]
  },
  {
   "cell_type": "markdown",
   "metadata": {},
   "source": [
    "The same can be done for the number of outgoing edges. The first five entries in the n_outgoing table are shown above. It shows every page ID in the page_id column and then amount of outgoing edges per page ID in the n_outgoing column. "
   ]
  },
  {
   "cell_type": "markdown",
   "metadata": {},
   "source": [
    "To be able to visualize the distributions of n_incoming and n_outgoing edges made above, we will count the number of nodes for each n_incoming and n_outgoing respectively. This way we can see how many nodes have how many incoming or outgoing edges."
   ]
  },
  {
   "cell_type": "code",
   "execution_count": 23,
   "metadata": {},
   "outputs": [],
   "source": [
    "nodes_per_incoming = n_incoming.groupby('n_incoming').size().reset_index(name = 'n_nodes')\n",
    "nodes_per_incoming.n_incoming = nodes_per_incoming.n_incoming.astype(int)"
   ]
  },
  {
   "cell_type": "code",
   "execution_count": 24,
   "metadata": {},
   "outputs": [
    {
     "data": {
      "text/html": [
       "<div>\n",
       "<style scoped>\n",
       "    .dataframe tbody tr th:only-of-type {\n",
       "        vertical-align: middle;\n",
       "    }\n",
       "\n",
       "    .dataframe tbody tr th {\n",
       "        vertical-align: top;\n",
       "    }\n",
       "\n",
       "    .dataframe thead th {\n",
       "        text-align: right;\n",
       "    }\n",
       "</style>\n",
       "<table border=\"1\" class=\"dataframe\">\n",
       "  <thead>\n",
       "    <tr style=\"text-align: right;\">\n",
       "      <th></th>\n",
       "      <th>page_id</th>\n",
       "      <th>n_incoming</th>\n",
       "    </tr>\n",
       "  </thead>\n",
       "  <tbody>\n",
       "    <tr>\n",
       "      <th>0</th>\n",
       "      <td>0</td>\n",
       "      <td>210.0</td>\n",
       "    </tr>\n",
       "    <tr>\n",
       "      <th>1</th>\n",
       "      <td>1</td>\n",
       "      <td>55.0</td>\n",
       "    </tr>\n",
       "    <tr>\n",
       "      <th>2</th>\n",
       "      <td>2</td>\n",
       "      <td>90.0</td>\n",
       "    </tr>\n",
       "    <tr>\n",
       "      <th>3</th>\n",
       "      <td>3</td>\n",
       "      <td>98.0</td>\n",
       "    </tr>\n",
       "    <tr>\n",
       "      <th>4</th>\n",
       "      <td>4</td>\n",
       "      <td>430.0</td>\n",
       "    </tr>\n",
       "  </tbody>\n",
       "</table>\n",
       "</div>"
      ],
      "text/plain": [
       "   page_id  n_incoming\n",
       "0        0       210.0\n",
       "1        1        55.0\n",
       "2        2        90.0\n",
       "3        3        98.0\n",
       "4        4       430.0"
      ]
     },
     "execution_count": 24,
     "metadata": {},
     "output_type": "execute_result"
    }
   ],
   "source": [
    "n_incoming.head()"
   ]
  },
  {
   "cell_type": "markdown",
   "metadata": {},
   "source": [
    "The easiest first step is to look at the histogram distribution of this table."
   ]
  },
  {
   "cell_type": "code",
   "execution_count": 25,
   "metadata": {},
   "outputs": [
    {
     "data": {
      "image/png": "[encoded data removed]",
      "text/plain": [
       "<Figure size 432x288 with 1 Axes>"
      ]
     },
     "metadata": {
      "needs_background": "light"
     },
     "output_type": "display_data"
    }
   ],
   "source": [
    "# seaborn histogram\n",
    "sns.distplot(n_incoming['n_incoming'], hist=True, kde=False, \n",
    "             bins=100, color = 'blue',\n",
    "             hist_kws={'edgecolor':'black'})\n",
    "# Add labels\n",
    "plt.title('Histogram of distribution of incoming edges', fontsize=16)\n",
    "plt.xticks(fontsize=16)\n",
    "plt.yticks(fontsize=16)\n",
    "plt.xlabel('Amount of Incoming Edges', fontsize=16)\n",
    "plt.ylabel('Amount of Nodes', fontsize=16);"
   ]
  },
  {
   "cell_type": "markdown",
   "metadata": {},
   "source": [
    "It is clear that the distribution of incoming edges is very concentrated at the low end, but apparently there are small amounts of nodes that have tenthousands of incoming edges. We can look at the quantiles to see how concentrated the distribution is towards the low ends. "
   ]
  },
  {
   "cell_type": "code",
   "execution_count": 26,
   "metadata": {},
   "outputs": [
    {
     "data": {
      "text/plain": [
       "count    248193.000000\n",
       "mean         12.774792\n",
       "std         238.852827\n",
       "min           0.000000\n",
       "25%           1.000000\n",
       "50%           2.000000\n",
       "75%           6.000000\n",
       "max       41371.000000\n",
       "Name: n_incoming, dtype: float64"
      ]
     },
     "execution_count": 26,
     "metadata": {},
     "output_type": "execute_result"
    }
   ],
   "source": [
    "n_incoming['n_incoming'].describe()"
   ]
  },
  {
   "cell_type": "markdown",
   "metadata": {},
   "source": [
    "The 75% quantile is at 6 incoming edges that means that 75% of the datapoints lie below this number. The maximum of incoming edges, however, is 41371 edges, which means that 25% of the data is distributed between 6 and 41371. This is why the histogram looks the way it does. Most nodes have below 6 incoming edges, but there are huge outliers that have up to 41371 incoming edges. To maybe see a bit more of the distribution, we can zoom in on only the first three quantiles."
   ]
  },
  {
   "cell_type": "code",
   "execution_count": 27,
   "metadata": {},
   "outputs": [
    {
     "data": {
      "image/png": "[encoded data removed]",
      "text/plain": [
       "<Figure size 432x288 with 1 Axes>"
      ]
     },
     "metadata": {
      "needs_background": "light"
     },
     "output_type": "display_data"
    }
   ],
   "source": [
    "# seaborn histogram\n",
    "sns.distplot(n_incoming.loc[n_incoming.n_incoming < 50]['n_incoming'], hist=True, kde=False, \n",
    "             bins=50, color = 'blue',\n",
    "             hist_kws={'edgecolor':'black'})\n",
    "# Add labels\n",
    "plt.title('Histogram of distribution of incoming edges below 50', fontsize=16)\n",
    "plt.xticks(fontsize=16)\n",
    "plt.yticks(fontsize=16)\n",
    "plt.xlabel('Amount of Incoming Edges', fontsize=16)\n",
    "plt.ylabel('Amount of Nodes', fontsize=16);"
   ]
  },
  {
   "cell_type": "markdown",
   "metadata": {},
   "source": [
    "A lot of nodes have either 0 incoming edges or 1 incoming edge. Then the distribution quickly declines."
   ]
  },
  {
   "cell_type": "markdown",
   "metadata": {},
   "source": [
    "Now let's have a look at the distribution of outgoing edges."
   ]
  },
  {
   "cell_type": "code",
   "execution_count": 28,
   "metadata": {},
   "outputs": [
    {
     "data": {
      "text/html": [
       "<div>\n",
       "<style scoped>\n",
       "    .dataframe tbody tr th:only-of-type {\n",
       "        vertical-align: middle;\n",
       "    }\n",
       "\n",
       "    .dataframe tbody tr th {\n",
       "        vertical-align: top;\n",
       "    }\n",
       "\n",
       "    .dataframe thead th {\n",
       "        text-align: right;\n",
       "    }\n",
       "</style>\n",
       "<table border=\"1\" class=\"dataframe\">\n",
       "  <thead>\n",
       "    <tr style=\"text-align: right;\">\n",
       "      <th></th>\n",
       "      <th>page_id</th>\n",
       "      <th>n_outgoing</th>\n",
       "    </tr>\n",
       "  </thead>\n",
       "  <tbody>\n",
       "    <tr>\n",
       "      <th>0</th>\n",
       "      <td>0</td>\n",
       "      <td>193.0</td>\n",
       "    </tr>\n",
       "    <tr>\n",
       "      <th>1</th>\n",
       "      <td>1</td>\n",
       "      <td>21.0</td>\n",
       "    </tr>\n",
       "    <tr>\n",
       "      <th>2</th>\n",
       "      <td>2</td>\n",
       "      <td>22.0</td>\n",
       "    </tr>\n",
       "    <tr>\n",
       "      <th>3</th>\n",
       "      <td>3</td>\n",
       "      <td>61.0</td>\n",
       "    </tr>\n",
       "    <tr>\n",
       "      <th>4</th>\n",
       "      <td>4</td>\n",
       "      <td>47.0</td>\n",
       "    </tr>\n",
       "  </tbody>\n",
       "</table>\n",
       "</div>"
      ],
      "text/plain": [
       "   page_id  n_outgoing\n",
       "0        0       193.0\n",
       "1        1        21.0\n",
       "2        2        22.0\n",
       "3        3        61.0\n",
       "4        4        47.0"
      ]
     },
     "execution_count": 28,
     "metadata": {},
     "output_type": "execute_result"
    }
   ],
   "source": [
    "n_outgoing.head()"
   ]
  },
  {
   "cell_type": "code",
   "execution_count": 29,
   "metadata": {},
   "outputs": [
    {
     "data": {
      "image/png": "[encoded data removed]",
      "text/plain": [
       "<Figure size 432x288 with 1 Axes>"
      ]
     },
     "metadata": {
      "needs_background": "light"
     },
     "output_type": "display_data"
    }
   ],
   "source": [
    "# seaborn histogram\n",
    "sns.distplot(n_outgoing['n_outgoing'], hist=True, kde=False, \n",
    "             bins=100, color = 'blue',\n",
    "             hist_kws={'edgecolor':'black'})\n",
    "# Add labels\n",
    "plt.title('Histogram of distribution of outgoing edges', fontsize=16)\n",
    "plt.xticks(fontsize=16)\n",
    "plt.yticks(fontsize=16)\n",
    "plt.xlabel('Amount of Outgoing Edges', fontsize=16)\n",
    "plt.ylabel('Amount of Nodes', fontsize=16);"
   ]
  },
  {
   "cell_type": "markdown",
   "metadata": {},
   "source": [
    "The same concentration at lower ends is happening in the outgoing edges distribution as we saw in the incoming edges distribution. However, these numbers are much less spread out. Where the distribution of incoming edges extended to over 40000 number of incoming edges, the number of outgoing edges is only spread out up to 3000. We can again look at the quantiles."
   ]
  },
  {
   "cell_type": "code",
   "execution_count": 30,
   "metadata": {},
   "outputs": [
    {
     "data": {
      "text/plain": [
       "count    248193.000000\n",
       "mean         12.774792\n",
       "std          23.416633\n",
       "min           0.000000\n",
       "25%           3.000000\n",
       "50%           9.000000\n",
       "75%          14.000000\n",
       "max        3072.000000\n",
       "Name: n_outgoing, dtype: float64"
      ]
     },
     "execution_count": 30,
     "metadata": {},
     "output_type": "execute_result"
    }
   ],
   "source": [
    "n_outgoing['n_outgoing'].describe()"
   ]
  },
  {
   "cell_type": "markdown",
   "metadata": {},
   "source": [
    "The shape of the distribution is quite similar to the previous distribution we looked at. Of the nodes, 75% have 14 or less outgoing edges, but 25% of the nodes have between 14 and 3072 edges. We zoom in to the first three quantiles again."
   ]
  },
  {
   "cell_type": "code",
   "execution_count": 31,
   "metadata": {},
   "outputs": [
    {
     "data": {
      "image/png": "[encoded data removed]",
      "text/plain": [
       "<Figure size 432x288 with 1 Axes>"
      ]
     },
     "metadata": {
      "needs_background": "light"
     },
     "output_type": "display_data"
    }
   ],
   "source": [
    "# seaborn histogram\n",
    "sns.distplot(n_outgoing.loc[n_outgoing.n_outgoing < 50]['n_outgoing'], hist=True, kde=False, \n",
    "             bins=50, color = 'blue',\n",
    "             hist_kws={'edgecolor':'black'})\n",
    "# Add labels\n",
    "plt.title('Histogram of distribution of outgoing edges below 50', fontsize=16)\n",
    "plt.xticks(fontsize=16)\n",
    "plt.yticks(fontsize=16)\n",
    "plt.xlabel('Amount of Outgoing Edges', fontsize=16)\n",
    "plt.ylabel('Amount of Nodes', fontsize=16);"
   ]
  },
  {
   "cell_type": "markdown",
   "metadata": {},
   "source": [
    "An interesting effect becomes visible when we zoom in to look only at nodes that have below 50 outgoing edges. There are more nodes that have 1 outgoing edge than 0, but an even bigger amount of nodes have exactly 10 outgoing edges. The fact that there are more nodes that have 1 outgoing edge than 0 might not be too surprising, as we can imagine most Wikipedia pages to refer to at least one other page, but we cannot think of a sensible reason why there would be a peak at 10 outgoing edges."
   ]
  },
  {
   "cell_type": "code",
   "execution_count": 32,
   "metadata": {},
   "outputs": [],
   "source": [
    "average_in_degree = n_incoming.n_incoming.mean() #Calculate average n_incoming\n",
    "average_out_degree = n_outgoing.n_outgoing.mean() #Calculate average n_outgoing"
   ]
  },
  {
   "cell_type": "code",
   "execution_count": 33,
   "metadata": {},
   "outputs": [
    {
     "name": "stdout",
     "output_type": "stream",
     "text": [
      "Average in-degree of graph: 12.77\n",
      "Average out-degree of graph: 12.77\n"
     ]
    }
   ],
   "source": [
    "print(\"Average in-degree of graph: {}\".format(round(average_in_degree,2)))\n",
    "print(\"Average out-degree of graph: {}\".format(round(average_out_degree,2)))"
   ]
  },
  {
   "cell_type": "markdown",
   "metadata": {},
   "source": [
    "The average in-degree and out-degree of the graph are of course the same, because if nodes have an average of 12.77 outgoing edges then nodes should have an average of 12.77 incoming edges."
   ]
  },
  {
   "cell_type": "markdown",
   "metadata": {},
   "source": [
    "## Memory Estimations\n",
    "\n",
    "Throughout the next two notebooks, different ways are used to obtain vector v, the principal eigen vector of transition matrix M. \n",
    "We will now do some calculations for memory usage of those methods. We want to know how much memory we need to store the transition matrix and vector v fully, and with the transition matrix as a sparse matrix. We also want to know how much memory it will take to store it in a different format table, containing three columns: source node, degree and destination nodes. In which source node contains the ID of a source node, degree contains a number that tells you to how many nodes the source node is connected and destination nodes contains all of the ID's of the nodes to which the source node is connected. An example of such a table is shown below.\n",
    "\n",
    "| Source Node | Degree   | Destination Nodes |\n",
    "|------|------|------|\n",
    "|   2  | 3| 10,102,220 |\n",
    "|   8  | 2| 15, 1001 |\n",
    "|   ..  | .. | ..|"
   ]
  },
  {
   "cell_type": "markdown",
   "metadata": {},
   "source": [
    "#### Full Transition Matrix and v\n",
    "\n",
    "The number of elements in the transition matrix M, as the shape is n_nodes by $n_{nodes}$ with $n_{nodes}$ being the total number of nodes, is $n_{nodes}^2$.\n",
    "The number of elements in vector v is $n_{nodes}$, so the total number of elements is:\n",
    "\n",
    "$ \\#elements = n_{nodes}^2 + n_{nodes}$\n",
    "\n",
    "We store these numbers with double precision, so 64 bits per number. 1 bit is $1.25 * 10^{-10}$GB. To obtain the amount of gigabytes the equation is:\n",
    "\n",
    "$total GB = \\#elements * 64 * 1.25 * 10^{-10}$"
   ]
  },
  {
   "cell_type": "code",
   "execution_count": 34,
   "metadata": {},
   "outputs": [
    {
     "name": "stdout",
     "output_type": "stream",
     "text": [
      "Total RAM needed to store the transtion matrix M and initial vector v: 492.8GB\n"
     ]
    }
   ],
   "source": [
    "#Estimation of memory\n",
    "\n",
    "#Number entries in Transition Matrix M = number of nodes * number of nodes\n",
    "elements_in_M = n_nodes**2\n",
    "#Number of entries in v = n_nodes\n",
    "total_amount_numbers = elements_in_M + n_nodes\n",
    "#Double precision so number = 64 bits\n",
    "total_bits = total_amount_numbers * 64\n",
    "#1 bit = 1.25 × 10-10 gigabytes\n",
    "total_GB = total_bits * 1.25*10**-10\n",
    "print(\"Total RAM needed to store the transtion matrix M and initial vector v: {}GB\".format(round(total_GB,2)))"
   ]
  },
  {
   "cell_type": "markdown",
   "metadata": {},
   "source": [
    "#### Sparse Transition Matrix and v\n",
    "\n",
    "Now if we make transition matrix M a sparse matrix, we only have to store the non-zero elements. The number of non-zero elements in the sparse matrix is equal to the total number of links in the dataset. The rest of the memory calculation is the same as above."
   ]
  },
  {
   "cell_type": "code",
   "execution_count": 35,
   "metadata": {},
   "outputs": [],
   "source": [
    "#If M sparse, then no zeros stored\n",
    "#Number entries in sparse M = number of non zero elements = number of unique existing links\n",
    "elements_in_sparse_M = len(data)"
   ]
  },
  {
   "cell_type": "code",
   "execution_count": 36,
   "metadata": {},
   "outputs": [
    {
     "name": "stdout",
     "output_type": "stream",
     "text": [
      "As a comparison:\n",
      "Total number of elements in M: 61599765249\n",
      "Total number of elements in sparse M: 3170614\n"
     ]
    }
   ],
   "source": [
    "print(\"As a comparison:\")\n",
    "print(\"Total number of elements in M: {}\".format(elements_in_M))\n",
    "print(\"Total number of elements in sparse M: {}\".format(elements_in_sparse_M))"
   ]
  },
  {
   "cell_type": "code",
   "execution_count": 37,
   "metadata": {},
   "outputs": [
    {
     "name": "stdout",
     "output_type": "stream",
     "text": [
      "RAM needed to store sparse transition matrix and full initial vector v: 0.03GB\n",
      "which is 27.35MB\n"
     ]
    }
   ],
   "source": [
    "# total_amount_numbers_sparse = elements_in_sparse_M + n_nodes\n",
    "#Double precision so number = 64 bits\n",
    "total_bits_sparse = elements_in_sparse_M * 64 + n_nodes * 64\n",
    "#1 bit = 1.25 × 10-10 gigabytes\n",
    "total_GB_sparse = total_bits_sparse * 1.25*10**-10\n",
    "print(\"RAM needed to store sparse transition matrix and full initial vector v: {}GB\".format(round(total_GB_sparse,2)))\n",
    "#1 bit = 1.25 × 10-7 megabytes\n",
    "total_MB_sparse = total_bits_sparse * 1.25*10**-7\n",
    "print(\"which is {}MB\".format(round(total_MB_sparse,2)))"
   ]
  },
  {
   "cell_type": "markdown",
   "metadata": {},
   "source": [
    "#### Table Format\n",
    "\n",
    "| Source Node | Degree   | Destination Nodes |\n",
    "|------|------|------|\n",
    "|   2  | 3| 10,102,220 |\n",
    "|   8  | 2| 15, 1001 |\n",
    "|   ..  | .. | ..|\n",
    "\n",
    "For the last table the number of elements equals twice (because that is for the source node column and the degree column) the number of source nodes, so nodes with outgoing edges plus the total number of links (because that equals the amount of numbers in the destination node column). "
   ]
  },
  {
   "cell_type": "code",
   "execution_count": 38,
   "metadata": {},
   "outputs": [
    {
     "name": "stdout",
     "output_type": "stream",
     "text": [
      "RAM needed to store table format: 0.03GB\n",
      "which is 29.06MB\n"
     ]
    }
   ],
   "source": [
    "#Structure as on slide 17\n",
    "#Source node -- Degree -- Destination nodes\n",
    "#Source node column amount of numbers = amount of source nodes \n",
    "#Degree amount of numbers = amount of source nodes \n",
    "#Destination nodes amount of numbers = total number of links\n",
    "\n",
    "total_amount_numbers_structure = data.new_page_id_from.nunique() + data.new_page_id_from.nunique() + len(data)\n",
    "\n",
    "#Double precision so number = 64 bits\n",
    "total_bits_structure = total_amount_numbers_structure * 64\n",
    "#1 bit = 1.25 × 10-10 gigabytes\n",
    "total_GB_structure = total_bits_structure * 1.25*10**-10\n",
    "print(\"RAM needed to store table format: {}GB\".format(round(total_GB_structure,2)))\n",
    "#1 bit = 1.25 × 10-7 megabytes\n",
    "total_MB_structure = total_bits_structure * 1.25*10**-7\n",
    "print(\"which is {}MB\".format(round(total_MB_structure,2)))"
   ]
  },
  {
   "cell_type": "code",
   "execution_count": null,
   "metadata": {},
   "outputs": [],
   "source": []
  }
 ],
 "metadata": {
  "kernelspec": {
   "display_name": "Python 3",
   "language": "python",
   "name": "python3"
  },
  "language_info": {
   "codemirror_mode": {
    "name": "ipython",
    "version": 3
   },
   "file_extension": ".py",
   "mimetype": "text/x-python",
   "name": "python",
   "nbconvert_exporter": "python",
   "pygments_lexer": "ipython3",
   "version": "3.7.2"
  }
 },
 "nbformat": 4,
 "nbformat_minor": 4
}
