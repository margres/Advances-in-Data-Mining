{
 "cells": [
  {
   "cell_type": "markdown",
   "metadata": {},
   "source": [
    "# <center> The PageRank Algorithm </center>\n",
    "## <center> 3$^{rd}$ Assignment - 4$^{th}$ Notebook </center>\n",
    "### <center> By Group 80 for the course Advances in Data Mining of the University of Leiden taught by Wojtek Kowalczyk </center>\n",
    "<center> Lisa Dombrovskij (s1504819) - dombrovskij@strw.leidenuniv.nl </center>\n",
    "<center> Margherita Grespan (s2233150) - grespan@strw.leidenuniv.nl </center>\n",
    "\n",
    "***\n",
    "In this notebook we will explore a method to find the principal eigen vector of transition matrix M. Eventually the goal is to rank the pages. For this, an algorithm called PageRank is used. This algorithm is used by Google to rank their webpages for the search engine. \n",
    "\n",
    "As we have seen in a previous notebook, a node in this graph has an average of 12.8 outgoing node. This means that the transition matrix which describes the probability of going from one node to another is a sparse matrix, e.g. in a column -on average- only 10 elements out of 248193 will be non-zero.\n",
    "\n",
    "It is very straight-forward to create the transition matrix:\n",
    "1. Put a 1 at every (row, column) non zero combination with the indices equal to the page ID's.\n",
    "2. Divide each column by the amount of non zero entries in that column, i.e. the amount of outer links, to obtain the probabilities.\n",
    "\n",
    "The next step is to put the data in a different format that will be used for the PageRank algorithm. The table will consist of three columns: source, degree and destination nodes. The source column contains a page ID, the degree column contains the amount of outgoing edges this node has and the destination nodes column contains the nodes to which the source node links. The information in this table will be used to update the principal eigen vector v of matrix M that we are trying to find.\n",
    "\n",
    "| source  | degree | destination nodes               |\n",
    "|---------|--------|-------------------------------|\n",
    "| 0       | d$_1$  | dest$_{11}$,dest$_{12}$, ..., dest$_{1j}$ |\n",
    "| 1       | d$_2$   | dest$_{21}$,dest$_{22}$, ..., dest$_{2j}$ |\n",
    "| . . .   | . . .  | . . .                                     |\n",
    "| i       | d$_i$   | dest$_{i1}$,dest$_{i2}$, ..., dest$_{ij}$ |"
   ]
  },
  {
   "cell_type": "code",
   "execution_count": 5,
   "metadata": {},
   "outputs": [],
   "source": [
    "import numpy as np\n",
    "import pandas as pd\n",
    "import pickle\n",
    "from matplotlib import pyplot as plt\n",
    "from sklearn.metrics import mean_squared_error\n",
    "from scipy.sparse import csc_matrix, diags\n",
    "import time\n",
    "np.warnings.filterwarnings('ignore')"
   ]
  },
  {
   "cell_type": "code",
   "execution_count": 6,
   "metadata": {},
   "outputs": [],
   "source": [
    "with open('prepared_data', 'rb') as f:\n",
    "    data = pickle.load(f)"
   ]
  },
  {
   "cell_type": "markdown",
   "metadata": {},
   "source": [
    "The first thing to do is to crate a table containing:\n"
   ]
  },
  {
   "cell_type": "code",
   "execution_count": 7,
   "metadata": {
    "scrolled": true
   },
   "outputs": [],
   "source": [
    "df_destinations=data.groupby('new_page_id_from')['new_page_id_to'].apply(list).reset_index(name='destinations')\n",
    "df_destinations=df_destinations.rename(columns={\"new_page_id_from\": \"page_id\"})"
   ]
  },
  {
   "cell_type": "code",
   "execution_count": 8,
   "metadata": {},
   "outputs": [
    {
     "data": {
      "text/html": [
       "<div>\n",
       "<style scoped>\n",
       "    .dataframe tbody tr th:only-of-type {\n",
       "        vertical-align: middle;\n",
       "    }\n",
       "\n",
       "    .dataframe tbody tr th {\n",
       "        vertical-align: top;\n",
       "    }\n",
       "\n",
       "    .dataframe thead th {\n",
       "        text-align: right;\n",
       "    }\n",
       "</style>\n",
       "<table border=\"1\" class=\"dataframe\">\n",
       "  <thead>\n",
       "    <tr style=\"text-align: right;\">\n",
       "      <th></th>\n",
       "      <th>page_id</th>\n",
       "      <th>destinations</th>\n",
       "    </tr>\n",
       "  </thead>\n",
       "  <tbody>\n",
       "    <tr>\n",
       "      <th>0</th>\n",
       "      <td>0</td>\n",
       "      <td>[18381, 19179, 18382, 18501, 18502, 18568, 186...</td>\n",
       "    </tr>\n",
       "    <tr>\n",
       "      <th>1</th>\n",
       "      <td>1</td>\n",
       "      <td>[1, 163504, 1688, 107315, 4265, 31284, 116875,...</td>\n",
       "    </tr>\n",
       "    <tr>\n",
       "      <th>2</th>\n",
       "      <td>2</td>\n",
       "      <td>[36, 242802, 242715, 22474, 1538, 1557, 243733...</td>\n",
       "    </tr>\n",
       "    <tr>\n",
       "      <th>3</th>\n",
       "      <td>3</td>\n",
       "      <td>[18439, 18417, 1144, 111438, 103174, 240752, 1...</td>\n",
       "    </tr>\n",
       "    <tr>\n",
       "      <th>4</th>\n",
       "      <td>4</td>\n",
       "      <td>[18751, 18485, 247205, 18588, 18365, 47251, 33...</td>\n",
       "    </tr>\n",
       "  </tbody>\n",
       "</table>\n",
       "</div>"
      ],
      "text/plain": [
       "   page_id                                       destinations\n",
       "0        0  [18381, 19179, 18382, 18501, 18502, 18568, 186...\n",
       "1        1  [1, 163504, 1688, 107315, 4265, 31284, 116875,...\n",
       "2        2  [36, 242802, 242715, 22474, 1538, 1557, 243733...\n",
       "3        3  [18439, 18417, 1144, 111438, 103174, 240752, 1...\n",
       "4        4  [18751, 18485, 247205, 18588, 18365, 47251, 33..."
      ]
     },
     "execution_count": 8,
     "metadata": {},
     "output_type": "execute_result"
    }
   ],
   "source": [
    "df_destinations.head()"
   ]
  },
  {
   "cell_type": "code",
   "execution_count": 9,
   "metadata": {},
   "outputs": [
    {
     "name": "stdout",
     "output_type": "stream",
     "text": [
      "The amount of nodes is:  248193\n"
     ]
    }
   ],
   "source": [
    "n_nodes = len(pd.unique(data[['new_page_id_from', 'new_page_id_to']].values.ravel('K')))\n",
    "print('The amount of nodes is: ', n_nodes)"
   ]
  },
  {
   "cell_type": "code",
   "execution_count": 10,
   "metadata": {},
   "outputs": [],
   "source": [
    "#counting the num. of connections\n",
    "temp = pd.DataFrame({'page_id':np.arange(n_nodes)})\n",
    "n_outgoing_count = data.groupby('new_page_id_from').size().reset_index(name = 'n_outgoing')\n",
    "n_outgoing = pd.merge(temp, n_outgoing_count, left_on = 'page_id', right_on = 'new_page_id_from', how='outer').fillna(0)\n",
    "n_outgoing.drop(columns = ['new_page_id_from'], inplace=True)"
   ]
  },
  {
   "cell_type": "code",
   "execution_count": 11,
   "metadata": {},
   "outputs": [],
   "source": [
    "#Create the transition matrix\n",
    "m_ones=np.ones(data.shape[0]) #Make ones for links\n",
    "M=csc_matrix(( m_ones, (data.new_page_id_to.values,data.new_page_id_from.values))) #Create sparse matrix\n",
    "prob=1/n_outgoing.n_outgoing.values #Calculate probabilities\n",
    "prob=diags(prob) \n",
    "M=np.dot(M,prob)"
   ]
  },
  {
   "cell_type": "code",
   "execution_count": 12,
   "metadata": {},
   "outputs": [],
   "source": [
    "df_page_rank=pd.merge(n_outgoing, df_destinations, on='page_id', how='outer')"
   ]
  },
  {
   "cell_type": "code",
   "execution_count": 13,
   "metadata": {},
   "outputs": [
    {
     "data": {
      "text/html": [
       "<div>\n",
       "<style scoped>\n",
       "    .dataframe tbody tr th:only-of-type {\n",
       "        vertical-align: middle;\n",
       "    }\n",
       "\n",
       "    .dataframe tbody tr th {\n",
       "        vertical-align: top;\n",
       "    }\n",
       "\n",
       "    .dataframe thead th {\n",
       "        text-align: right;\n",
       "    }\n",
       "</style>\n",
       "<table border=\"1\" class=\"dataframe\">\n",
       "  <thead>\n",
       "    <tr style=\"text-align: right;\">\n",
       "      <th></th>\n",
       "      <th>page_id</th>\n",
       "      <th>n_outgoing</th>\n",
       "      <th>destinations</th>\n",
       "    </tr>\n",
       "  </thead>\n",
       "  <tbody>\n",
       "    <tr>\n",
       "      <th>0</th>\n",
       "      <td>0</td>\n",
       "      <td>193.0</td>\n",
       "      <td>[18381, 19179, 18382, 18501, 18502, 18568, 186...</td>\n",
       "    </tr>\n",
       "    <tr>\n",
       "      <th>1</th>\n",
       "      <td>1</td>\n",
       "      <td>21.0</td>\n",
       "      <td>[1, 163504, 1688, 107315, 4265, 31284, 116875,...</td>\n",
       "    </tr>\n",
       "    <tr>\n",
       "      <th>2</th>\n",
       "      <td>2</td>\n",
       "      <td>22.0</td>\n",
       "      <td>[36, 242802, 242715, 22474, 1538, 1557, 243733...</td>\n",
       "    </tr>\n",
       "    <tr>\n",
       "      <th>3</th>\n",
       "      <td>3</td>\n",
       "      <td>61.0</td>\n",
       "      <td>[18439, 18417, 1144, 111438, 103174, 240752, 1...</td>\n",
       "    </tr>\n",
       "    <tr>\n",
       "      <th>4</th>\n",
       "      <td>4</td>\n",
       "      <td>47.0</td>\n",
       "      <td>[18751, 18485, 247205, 18588, 18365, 47251, 33...</td>\n",
       "    </tr>\n",
       "  </tbody>\n",
       "</table>\n",
       "</div>"
      ],
      "text/plain": [
       "   page_id  n_outgoing                                       destinations\n",
       "0        0       193.0  [18381, 19179, 18382, 18501, 18502, 18568, 186...\n",
       "1        1        21.0  [1, 163504, 1688, 107315, 4265, 31284, 116875,...\n",
       "2        2        22.0  [36, 242802, 242715, 22474, 1538, 1557, 243733...\n",
       "3        3        61.0  [18439, 18417, 1144, 111438, 103174, 240752, 1...\n",
       "4        4        47.0  [18751, 18485, 247205, 18588, 18365, 47251, 33..."
      ]
     },
     "execution_count": 13,
     "metadata": {},
     "output_type": "execute_result"
    }
   ],
   "source": [
    "df_page_rank.head()"
   ]
  },
  {
   "cell_type": "markdown",
   "metadata": {},
   "source": [
    "Above, the first five lines of the table are displayed. We will loop through every row, i.e. every node and use the following update rule:\n",
    "\n",
    "$v_{new}(dest_{j}) += v_{old}(source_{i}) * \\frac{\\beta}{d_{i}}$\n",
    "\n",
    "In which $v_{old}$ is the vector v of the previous iteration and $v_{new}$ the new v. $v_{new}(dest_{j})$ is the element in $v_{new}$ of the $j^{th}$ destination node of the $i^{th}$ source node, $v_{old}(source_{i})$ is the element in $v_{old}$ of source node i, $\\beta$ is a constant, usually 0.8 or 0.9 and $d_{i}$ is the degree of the $i^{th}$ source node.\n",
    "\n",
    "The first $v_{old}$ and $v_{new}$ vectors are intiated to contain the value $\\frac{1-\\beta}{n_{nodes}}$ with a length of $n_{nodes}$."
   ]
  },
  {
   "cell_type": "code",
   "execution_count": 14,
   "metadata": {},
   "outputs": [
    {
     "name": "stdout",
     "output_type": "stream",
     "text": [
      "iteration n. 0\n",
      "iteration n. 1\n",
      "iteration n. 2\n",
      "iteration n. 3\n",
      "iteration n. 4\n",
      "iteration n. 5\n",
      "iteration n. 6\n",
      "iteration n. 7\n",
      "iteration n. 8\n",
      "iteration n. 9\n",
      "iteration n. 10\n",
      "iteration n. 11\n",
      "iteration n. 12\n",
      "iteration n. 13\n",
      "iteration n. 14\n",
      "iteration n. 15\n",
      "iteration n. 16\n",
      "iteration n. 17\n",
      "iteration n. 18\n",
      "iteration n. 19\n",
      "iteration n. 20\n",
      "iteration n. 21\n",
      "iteration n. 22\n",
      "iteration n. 23\n",
      "iteration n. 24\n"
     ]
    }
   ],
   "source": [
    "beta=.8\n",
    "v=[]\n",
    "MSE=[]\n",
    "t_list=[]\n",
    "v_old=np.array([(1.0-beta)/n_nodes]*n_nodes) #list of length n_nodes\n",
    "\n",
    "for c in range(25):\n",
    "    v_new=np.array([(1.0-beta)/n_nodes]*n_nodes)\n",
    "    print('iteration n.',c)\n",
    "    start=time.time()\n",
    "    \n",
    "    for i in range(n_nodes):\n",
    "        source_node = df_page_rank.iloc[i].page_id\n",
    "        dest=df_page_rank.iloc[i].destinations\n",
    "        d=df_page_rank.iloc[i].n_outgoing #degree\n",
    "        \n",
    "        if d != 0:\n",
    "            for destj in dest:\n",
    "                v_new[destj]+=v_old[source_node]*beta/d\n",
    "    \n",
    "    v_old=v_new.copy()\n",
    "\n",
    "    MSE.append(mean_squared_error(v_old, M*v_old))\n",
    "    end=time.time()\n",
    "    t=end-start\n",
    "    t_list.append(t)"
   ]
  },
  {
   "cell_type": "code",
   "execution_count": 15,
   "metadata": {},
   "outputs": [
    {
     "data": {
      "image/png": "[encoded data removed]",
      "text/plain": [
       "<Figure size 432x288 with 1 Axes>"
      ]
     },
     "metadata": {
      "needs_background": "light"
     },
     "output_type": "display_data"
    }
   ],
   "source": [
    "plt.plot(MSE, color='orange', linestyle='--', marker='o')\n",
    "plt.xlabel('iteration', fontsize=15)\n",
    "plt.ylabel('MSE', fontsize=15)\n",
    "plt.xticks(fontsize=16)\n",
    "plt.yticks(fontsize=16)\n",
    "plt.grid()"
   ]
  },
  {
   "cell_type": "code",
   "execution_count": 16,
   "metadata": {},
   "outputs": [
    {
     "name": "stdout",
     "output_type": "stream",
     "text": [
      "MSE after 25 iterations: 4.957961767510701e-11\n"
     ]
    }
   ],
   "source": [
    "print(\"MSE after 25 iterations: {}\".format(MSE[-1]))"
   ]
  },
  {
   "cell_type": "markdown",
   "metadata": {},
   "source": [
    "Above, the graph shows the MSE over the 25 iterations of the PageRank algorithm.\n",
    "\n",
    "The MSE converges between 10 and 15 iterations to a value around 4.99e$^{-11}$.\n",
    "As we can see, the error using the sparse matrix method in notebook 3 is 10$^{-2}$ times smaller than the error obtained with the method in this notebook."
   ]
  },
  {
   "cell_type": "code",
   "execution_count": 20,
   "metadata": {},
   "outputs": [
    {
     "name": "stdout",
     "output_type": "stream",
     "text": [
      "On average an iteration takes 187.24 s\n"
     ]
    }
   ],
   "source": [
    "print('On average an iteration takes', round(np.mean(t_list),2),'s')"
   ]
  },
  {
   "cell_type": "code",
   "execution_count": null,
   "metadata": {},
   "outputs": [],
   "source": []
  }
 ],
 "metadata": {
  "kernelspec": {
   "display_name": "Python 3",
   "language": "python",
   "name": "python3"
  },
  "language_info": {
   "codemirror_mode": {
    "name": "ipython",
    "version": 3
   },
   "file_extension": ".py",
   "mimetype": "text/x-python",
   "name": "python",
   "nbconvert_exporter": "python",
   "pygments_lexer": "ipython3",
   "version": "3.7.2"
  }
 },
 "nbformat": 4,
 "nbformat_minor": 4
}
