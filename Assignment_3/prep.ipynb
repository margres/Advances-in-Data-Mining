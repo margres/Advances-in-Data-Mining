{
 "cells": [
  {
   "cell_type": "markdown",
   "metadata": {},
   "source": [
    "# <center> Data Preparation </center>\n",
    "## <center> 3$^{rd}$ Assignment - 1$^{st}$ Notebook </center>\n",
    "### <center> By Group 80 for the course Advances in Data Mining of the University of Leiden taught by Wojtek Kowalczyk </center>\n",
    "<center> Lisa Dombrovskij (s1504819) - dombrovskij@strw.leidenuniv.nl </center>\n",
    "<center> Margherita Grespan (s2233150) - grespan@strw.leidenuniv.nl </center>\n",
    "\n",
    "***\n",
    "\n",
    "The data used for this project is compiled by Cristian Consonni, David Laniado, & Alberto Montresor (2019) and can be found [here](https://zenodo.org/record/2539424#.Xa2dvJMzZ-U). It consists of four columns showing links between pages on Wikipedia. It shows the title of the page and the page it links to, along with a unique ID for each page. The dataset now spans over 17 years, and each year a snapshot is taken of Wikipedia's link network. \n",
    "\n",
    "In this notebook the data is preprocessed. The columns needed for the project are extracted from the data and the ID's are converted into consecutive integers."
   ]
  },
  {
   "cell_type": "code",
   "execution_count": 1,
   "metadata": {},
   "outputs": [],
   "source": [
    "import numpy as np\n",
    "import pandas as pd\n",
    "import pickle"
   ]
  },
  {
   "cell_type": "code",
   "execution_count": 3,
   "metadata": {},
   "outputs": [],
   "source": [
    "#Read in columns 'page_id_from' and 'page_id_to' from the data.\n",
    "full_frame = pd.read_csv('enwiki.wikilink_graph.2004-03-01.csv', delimiter='\\t', usecols = ['page_id_from','page_id_to'])"
   ]
  },
  {
   "cell_type": "markdown",
   "metadata": {},
   "source": [
    "As we are only interested in the connections between pages, i.e. the graph, we only extract the ID's from the dataset. This gives two columns: 'page_id_from' and 'page_id_to'. The latter gives the page ID to which the pagelink refers, the first column gives the page ID from which the link is made."
   ]
  },
  {
   "cell_type": "code",
   "execution_count": 4,
   "metadata": {},
   "outputs": [
    {
     "data": {
      "text/html": [
       "<div>\n",
       "<style scoped>\n",
       "    .dataframe tbody tr th:only-of-type {\n",
       "        vertical-align: middle;\n",
       "    }\n",
       "\n",
       "    .dataframe tbody tr th {\n",
       "        vertical-align: top;\n",
       "    }\n",
       "\n",
       "    .dataframe thead th {\n",
       "        text-align: right;\n",
       "    }\n",
       "</style>\n",
       "<table border=\"1\" class=\"dataframe\">\n",
       "  <thead>\n",
       "    <tr style=\"text-align: right;\">\n",
       "      <th></th>\n",
       "      <th>page_id_from</th>\n",
       "      <th>page_id_to</th>\n",
       "    </tr>\n",
       "  </thead>\n",
       "  <tbody>\n",
       "    <tr>\n",
       "      <th>0</th>\n",
       "      <td>12</td>\n",
       "      <td>34568</td>\n",
       "    </tr>\n",
       "    <tr>\n",
       "      <th>1</th>\n",
       "      <td>12</td>\n",
       "      <td>35416</td>\n",
       "    </tr>\n",
       "    <tr>\n",
       "      <th>2</th>\n",
       "      <td>12</td>\n",
       "      <td>34569</td>\n",
       "    </tr>\n",
       "    <tr>\n",
       "      <th>3</th>\n",
       "      <td>12</td>\n",
       "      <td>34699</td>\n",
       "    </tr>\n",
       "    <tr>\n",
       "      <th>4</th>\n",
       "      <td>12</td>\n",
       "      <td>34700</td>\n",
       "    </tr>\n",
       "  </tbody>\n",
       "</table>\n",
       "</div>"
      ],
      "text/plain": [
       "   page_id_from  page_id_to\n",
       "0            12       34568\n",
       "1            12       35416\n",
       "2            12       34569\n",
       "3            12       34699\n",
       "4            12       34700"
      ]
     },
     "execution_count": 4,
     "metadata": {},
     "output_type": "execute_result"
    }
   ],
   "source": [
    "full_frame.head()"
   ]
  },
  {
   "cell_type": "code",
   "execution_count": 5,
   "metadata": {},
   "outputs": [
    {
     "data": {
      "text/plain": [
       "array([      12,       25,       39, ..., 56612504, 56612815, 56613112])"
      ]
     },
     "execution_count": 5,
     "metadata": {},
     "output_type": "execute_result"
    }
   ],
   "source": [
    "full_frame.page_id_from.unique() #Not consecutive"
   ]
  },
  {
   "cell_type": "markdown",
   "metadata": {},
   "source": [
    "Above the sorted array of unique ID's in the dataset is shown. It is clear that there are gaps in the ID's. For consistency and clarity, we convert the ID's to be consecutive integers, starting at zero. Essentially, the new ID for each ID in the array above will be its index. "
   ]
  },
  {
   "cell_type": "code",
   "execution_count": 6,
   "metadata": {},
   "outputs": [],
   "source": [
    "unique_ids = np.unique(full_frame[['page_id_from', 'page_id_to']].values) #Original unique ID's\n",
    "n_unique_ids = len(unique_ids) #Amount of ID's"
   ]
  },
  {
   "cell_type": "code",
   "execution_count": 7,
   "metadata": {},
   "outputs": [],
   "source": [
    "new_ids = np.arange(n_unique_ids) #New ID's --> Consecutive integers"
   ]
  },
  {
   "cell_type": "code",
   "execution_count": 8,
   "metadata": {},
   "outputs": [],
   "source": [
    "#Put original ID's in a dictionary as keys with new ID's as values\n",
    "conversion_dict = {}\n",
    "\n",
    "for original_id, new_id in zip(unique_ids, new_ids):\n",
    "    conversion_dict[original_id] = new_id"
   ]
  },
  {
   "cell_type": "code",
   "execution_count": 15,
   "metadata": {},
   "outputs": [],
   "source": [
    "full_frame['new_page_id_from'] = full_frame.page_id_from.apply(lambda x: conversion_dict[x]) #Convert ID's"
   ]
  },
  {
   "cell_type": "code",
   "execution_count": 16,
   "metadata": {},
   "outputs": [],
   "source": [
    "full_frame['new_page_id_to'] = full_frame.page_id_to.apply(lambda x: conversion_dict[x]) #Convert ID's"
   ]
  },
  {
   "cell_type": "code",
   "execution_count": 17,
   "metadata": {},
   "outputs": [
    {
     "data": {
      "text/html": [
       "<div>\n",
       "<style scoped>\n",
       "    .dataframe tbody tr th:only-of-type {\n",
       "        vertical-align: middle;\n",
       "    }\n",
       "\n",
       "    .dataframe tbody tr th {\n",
       "        vertical-align: top;\n",
       "    }\n",
       "\n",
       "    .dataframe thead th {\n",
       "        text-align: right;\n",
       "    }\n",
       "</style>\n",
       "<table border=\"1\" class=\"dataframe\">\n",
       "  <thead>\n",
       "    <tr style=\"text-align: right;\">\n",
       "      <th></th>\n",
       "      <th>page_id_from</th>\n",
       "      <th>page_id_to</th>\n",
       "      <th>new_page_id_from</th>\n",
       "      <th>new_page_id_to</th>\n",
       "    </tr>\n",
       "  </thead>\n",
       "  <tbody>\n",
       "    <tr>\n",
       "      <th>0</th>\n",
       "      <td>12</td>\n",
       "      <td>34568</td>\n",
       "      <td>0</td>\n",
       "      <td>18381</td>\n",
       "    </tr>\n",
       "    <tr>\n",
       "      <th>1</th>\n",
       "      <td>12</td>\n",
       "      <td>35416</td>\n",
       "      <td>0</td>\n",
       "      <td>19179</td>\n",
       "    </tr>\n",
       "    <tr>\n",
       "      <th>2</th>\n",
       "      <td>12</td>\n",
       "      <td>34569</td>\n",
       "      <td>0</td>\n",
       "      <td>18382</td>\n",
       "    </tr>\n",
       "    <tr>\n",
       "      <th>3</th>\n",
       "      <td>12</td>\n",
       "      <td>34699</td>\n",
       "      <td>0</td>\n",
       "      <td>18501</td>\n",
       "    </tr>\n",
       "    <tr>\n",
       "      <th>4</th>\n",
       "      <td>12</td>\n",
       "      <td>34700</td>\n",
       "      <td>0</td>\n",
       "      <td>18502</td>\n",
       "    </tr>\n",
       "  </tbody>\n",
       "</table>\n",
       "</div>"
      ],
      "text/plain": [
       "   page_id_from  page_id_to  new_page_id_from  new_page_id_to\n",
       "0            12       34568                 0           18381\n",
       "1            12       35416                 0           19179\n",
       "2            12       34569                 0           18382\n",
       "3            12       34699                 0           18501\n",
       "4            12       34700                 0           18502"
      ]
     },
     "execution_count": 17,
     "metadata": {},
     "output_type": "execute_result"
    }
   ],
   "source": [
    "full_frame.head()"
   ]
  },
  {
   "cell_type": "markdown",
   "metadata": {},
   "source": [
    "The new table shows the old ID's (page_id_from and page_id_to) and their new ID's (new_page_id_from, new_page_id_to). Since we only need the new ID's, the last two columns are stored as a pickle file for further use. If necessary, the ID's can always be converted back using the conversion dictionary made in this notebook."
   ]
  },
  {
   "cell_type": "code",
   "execution_count": 19,
   "metadata": {},
   "outputs": [],
   "source": [
    "with open('prepared_data', 'wb') as f:\n",
    "    pickle.dump(full_frame[['new_page_id_from','new_page_id_to']], f)"
   ]
  }
 ],
 "metadata": {
  "kernelspec": {
   "display_name": "Python 3",
   "language": "python",
   "name": "python3"
  },
  "language_info": {
   "codemirror_mode": {
    "name": "ipython",
    "version": 3
   },
   "file_extension": ".py",
   "mimetype": "text/x-python",
   "name": "python",
   "nbconvert_exporter": "python",
   "pygments_lexer": "ipython3",
   "version": "3.7.2"
  }
 },
 "nbformat": 4,
 "nbformat_minor": 4
}
