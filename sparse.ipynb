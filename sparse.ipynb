{
 "cells": [
  {
   "cell_type": "markdown",
   "metadata": {},
   "source": [
    "# <center> Page Rank </center>\n",
    "## <center> Teleporting </center>\n",
    "## <center> 3$^{rd}$ Assignment - 3$^{rd}$ Notebook </center>\n",
    "### <center> By Group 80 for the course Advances in Data Mining of the University of Leiden taught by Wojtek Kowalczyk </center>\n",
    "<center> Lisa Dombrovskij (s1504819) - dombrovskij@strw.leidenuniv.nl </center>\n",
    "<center> Margherita Grespan (s2233150) - grespan@strw.leidenuniv.nl </center>\n",
    "\n",
    "***\n",
    "\n",
    "This notebook is a continuation of two other notebooks; 'prep' and 'eda' respectively. For further introduction and explanation please look at those notebooks.\n",
    "\n",
    "In this notebook we will explore a method to find the principal eigen vector of transition matrix M. This method is used to avoid spider traps and dead ends. Spider traps can consist of a node or multiple nodes. If it consists of a single node, a spider trap means that the node links to itself and one can thus get stuck there. If it consists of multiple nodes it can also mean that one can get stuck going in a circle, through the same nodes. In order to avoid getting trapped, one can use the method of *teleporting*. This means that with probability $\\beta (0 < \\beta <= 1)$ we continue the random walk through the nodes and with probability $1-\\beta$ we jump to any other node.\n",
    "\n",
    "Eventually the goal is to rank the pages. For this, an algorithm called PageRank is used. This algorithm is used by Google to rank their webpages for the search engine. \n",
    "\n",
    "In this notebook we will use the clasical update rule, before implementing the full PageRank algorithm in the next notebook.\n",
    "Having  $\\vec v'$ as the new estimate, $\\vec v$ the current one and M transition matrix between the nodes:\n",
    "\n",
    "$v'=\\beta \\cdot M \\cdot v + (1- \\beta)\\cdot \\frac{\\vec e}{n} $\n",
    "\n",
    "$\\beta$ is a constant, usually 0.8 or 0.9, $\\vec e$ is a unit vector and n the amount of nodes represented by the transition matrix.\n",
    "\n",
    "This equation includes the possibility to continue surfing along links at random (the random walk): $\\cdot M \\cdot v$. Basically, this means the visitor will follow an outgoing edge from the present page. The second term express the chance - 10% with $beta$=0.9 - of visiting a completely new web-page."
   ]
  },
  {
   "cell_type": "code",
   "execution_count": 85,
   "metadata": {},
   "outputs": [],
   "source": [
    "import numpy as np\n",
    "import pandas as pd\n",
    "import pickle\n",
    "from matplotlib import pyplot as plt\n",
    "from scipy.sparse import csc_matrix, diags\n",
    "import random \n",
    "from sklearn.metrics import mean_squared_error\n",
    "from IPython.display import display, HTML\n",
    "np.warnings.filterwarnings('ignore')"
   ]
  },
  {
   "cell_type": "code",
   "execution_count": 86,
   "metadata": {},
   "outputs": [
    {
     "name": "stdout",
     "output_type": "stream",
     "text": [
      "** Read prepared data **\n"
     ]
    }
   ],
   "source": [
    "with open('prepared_data', 'rb') as f:\n",
    "    data = pickle.load(f)\n",
    "print('** Read prepared data **')"
   ]
  },
  {
   "cell_type": "code",
   "execution_count": 87,
   "metadata": {},
   "outputs": [
    {
     "name": "stdout",
     "output_type": "stream",
     "text": [
      "The amount of nodes is:  248193\n"
     ]
    }
   ],
   "source": [
    "n_nodes = len(pd.unique(data[['new_page_id_from', 'new_page_id_to']].values.ravel('K')))\n",
    "print('The amount of nodes is: ', n_nodes)"
   ]
  },
  {
   "cell_type": "markdown",
   "metadata": {},
   "source": [
    "In order to create the transition matrix, we need to calculate the probabilities of transitioning from one node to the other. For this, we first count the number of outgoing edges for each node."
   ]
  },
  {
   "cell_type": "code",
   "execution_count": 88,
   "metadata": {},
   "outputs": [],
   "source": [
    "#counting the num. of connections\n",
    "temp = pd.DataFrame({'page_id':np.arange(n_nodes)})\n",
    "n_outgoing_count = data.groupby('new_page_id_from').size().reset_index(name = 'n_outgoing')\n",
    "n_outgoing = pd.merge(temp, n_outgoing_count, left_on = 'page_id', right_on = 'new_page_id_from', how='outer').fillna(0)\n",
    "n_outgoing.drop(columns = ['new_page_id_from'], inplace=True)"
   ]
  },
  {
   "cell_type": "code",
   "execution_count": 89,
   "metadata": {},
   "outputs": [
    {
     "name": "stdout",
     "output_type": "stream",
     "text": [
      "Table that shows the amount of outgoing links per each page\n"
     ]
    },
    {
     "data": {
      "text/html": [
       "<div>\n",
       "<style scoped>\n",
       "    .dataframe tbody tr th:only-of-type {\n",
       "        vertical-align: middle;\n",
       "    }\n",
       "\n",
       "    .dataframe tbody tr th {\n",
       "        vertical-align: top;\n",
       "    }\n",
       "\n",
       "    .dataframe thead th {\n",
       "        text-align: right;\n",
       "    }\n",
       "</style>\n",
       "<table border=\"1\" class=\"dataframe\">\n",
       "  <thead>\n",
       "    <tr style=\"text-align: right;\">\n",
       "      <th></th>\n",
       "      <th>page_id</th>\n",
       "      <th>n_outgoing</th>\n",
       "    </tr>\n",
       "  </thead>\n",
       "  <tbody>\n",
       "    <tr>\n",
       "      <th>0</th>\n",
       "      <td>0</td>\n",
       "      <td>193.0</td>\n",
       "    </tr>\n",
       "    <tr>\n",
       "      <th>1</th>\n",
       "      <td>1</td>\n",
       "      <td>21.0</td>\n",
       "    </tr>\n",
       "    <tr>\n",
       "      <th>2</th>\n",
       "      <td>2</td>\n",
       "      <td>22.0</td>\n",
       "    </tr>\n",
       "    <tr>\n",
       "      <th>3</th>\n",
       "      <td>3</td>\n",
       "      <td>61.0</td>\n",
       "    </tr>\n",
       "    <tr>\n",
       "      <th>4</th>\n",
       "      <td>4</td>\n",
       "      <td>47.0</td>\n",
       "    </tr>\n",
       "  </tbody>\n",
       "</table>\n",
       "</div>"
      ],
      "text/plain": [
       "   page_id  n_outgoing\n",
       "0        0       193.0\n",
       "1        1        21.0\n",
       "2        2        22.0\n",
       "3        3        61.0\n",
       "4        4        47.0"
      ]
     },
     "execution_count": 89,
     "metadata": {},
     "output_type": "execute_result"
    }
   ],
   "source": [
    "print('Table that shows the amount of outgoing links per each page')\n",
    "n_outgoing.head()"
   ]
  },
  {
   "cell_type": "markdown",
   "metadata": {},
   "source": [
    "The table above shows the number of outgoing edges for each page_id. Using this and the data we can now create the transition matrix. The transition matrix will be a sparse matrix. A sparse matrix only stores the non-zero elements, the zero elements are ignored. This saves a lot of storage space (as most pages are linked to a small amount of pages, so the number of zeros in the transition matrix will be large) and will speed up the algorithm."
   ]
  },
  {
   "cell_type": "code",
   "execution_count": 90,
   "metadata": {},
   "outputs": [
    {
     "name": "stdout",
     "output_type": "stream",
     "text": [
      "** transition matrix done **\n"
     ]
    }
   ],
   "source": [
    "#Create the transition matrix\n",
    "m_ones=np.ones(data.shape[0]) #Make ones for links\n",
    "M=csc_matrix(( m_ones, (data.new_page_id_to.values,data.new_page_id_from.values))) #Create sparse matrix\n",
    "prob=1/n_outgoing.n_outgoing.values #Calculate probabilities\n",
    "prob=diags(prob) \n",
    "M=np.dot(M,prob)\n",
    "print('** transition matrix done **')\n",
    "v_sparse=csc_matrix(np.zeros((n_nodes)))"
   ]
  },
  {
   "cell_type": "markdown",
   "metadata": {},
   "source": [
    "Below the first five rows of the first five columns of the transition matrix are shown as an example. It is clear that there will be a lot of zero entries in the matrix, and thus using a sparse matrix is useful.\n",
    "\n",
    "We perform a quick check to see whether the transition matrix is correct:\n",
    "- The only non-zero element is in position (1,1).\n",
    "- From the data we know that tpage 1 has 21 outgoing links. Thus, the value shown in the transition matrix is $\\frac{1}{21}$."
   ]
  },
  {
   "cell_type": "code",
   "execution_count": 91,
   "metadata": {},
   "outputs": [
    {
     "name": "stdout",
     "output_type": "stream",
     "text": [
      " ** Transition matrix ** \n"
     ]
    },
    {
     "data": {
      "text/html": [
       "<div>\n",
       "<style scoped>\n",
       "    .dataframe tbody tr th:only-of-type {\n",
       "        vertical-align: middle;\n",
       "    }\n",
       "\n",
       "    .dataframe tbody tr th {\n",
       "        vertical-align: top;\n",
       "    }\n",
       "\n",
       "    .dataframe thead th {\n",
       "        text-align: right;\n",
       "    }\n",
       "</style>\n",
       "<table border=\"1\" class=\"dataframe\">\n",
       "  <thead>\n",
       "    <tr style=\"text-align: right;\">\n",
       "      <th></th>\n",
       "      <th>0</th>\n",
       "      <th>1</th>\n",
       "      <th>2</th>\n",
       "      <th>3</th>\n",
       "      <th>4</th>\n",
       "    </tr>\n",
       "  </thead>\n",
       "  <tbody>\n",
       "    <tr>\n",
       "      <th>0</th>\n",
       "      <td>0.0</td>\n",
       "      <td>0.000000</td>\n",
       "      <td>0.0</td>\n",
       "      <td>0.0</td>\n",
       "      <td>0.0</td>\n",
       "    </tr>\n",
       "    <tr>\n",
       "      <th>1</th>\n",
       "      <td>0.0</td>\n",
       "      <td>0.047619</td>\n",
       "      <td>0.0</td>\n",
       "      <td>0.0</td>\n",
       "      <td>0.0</td>\n",
       "    </tr>\n",
       "    <tr>\n",
       "      <th>2</th>\n",
       "      <td>0.0</td>\n",
       "      <td>0.000000</td>\n",
       "      <td>0.0</td>\n",
       "      <td>0.0</td>\n",
       "      <td>0.0</td>\n",
       "    </tr>\n",
       "    <tr>\n",
       "      <th>3</th>\n",
       "      <td>0.0</td>\n",
       "      <td>0.000000</td>\n",
       "      <td>0.0</td>\n",
       "      <td>0.0</td>\n",
       "      <td>0.0</td>\n",
       "    </tr>\n",
       "    <tr>\n",
       "      <th>4</th>\n",
       "      <td>0.0</td>\n",
       "      <td>0.000000</td>\n",
       "      <td>0.0</td>\n",
       "      <td>0.0</td>\n",
       "      <td>0.0</td>\n",
       "    </tr>\n",
       "  </tbody>\n",
       "</table>\n",
       "</div>"
      ],
      "text/plain": [
       "     0         1    2    3    4\n",
       "0  0.0  0.000000  0.0  0.0  0.0\n",
       "1  0.0  0.047619  0.0  0.0  0.0\n",
       "2  0.0  0.000000  0.0  0.0  0.0\n",
       "3  0.0  0.000000  0.0  0.0  0.0\n",
       "4  0.0  0.000000  0.0  0.0  0.0"
      ]
     },
     "metadata": {},
     "output_type": "display_data"
    },
    {
     "name": "stdout",
     "output_type": "stream",
     "text": [
      "** Table containing links from page 1 **\n"
     ]
    },
    {
     "data": {
      "text/html": [
       "<div>\n",
       "<style scoped>\n",
       "    .dataframe tbody tr th:only-of-type {\n",
       "        vertical-align: middle;\n",
       "    }\n",
       "\n",
       "    .dataframe tbody tr th {\n",
       "        vertical-align: top;\n",
       "    }\n",
       "\n",
       "    .dataframe thead th {\n",
       "        text-align: right;\n",
       "    }\n",
       "</style>\n",
       "<table border=\"1\" class=\"dataframe\">\n",
       "  <thead>\n",
       "    <tr style=\"text-align: right;\">\n",
       "      <th></th>\n",
       "      <th>new_page_id_from</th>\n",
       "      <th>new_page_id_to</th>\n",
       "    </tr>\n",
       "  </thead>\n",
       "  <tbody>\n",
       "    <tr>\n",
       "      <th>193</th>\n",
       "      <td>1</td>\n",
       "      <td>1</td>\n",
       "    </tr>\n",
       "    <tr>\n",
       "      <th>194</th>\n",
       "      <td>1</td>\n",
       "      <td>163504</td>\n",
       "    </tr>\n",
       "    <tr>\n",
       "      <th>195</th>\n",
       "      <td>1</td>\n",
       "      <td>1688</td>\n",
       "    </tr>\n",
       "    <tr>\n",
       "      <th>196</th>\n",
       "      <td>1</td>\n",
       "      <td>107315</td>\n",
       "    </tr>\n",
       "    <tr>\n",
       "      <th>197</th>\n",
       "      <td>1</td>\n",
       "      <td>4265</td>\n",
       "    </tr>\n",
       "  </tbody>\n",
       "</table>\n",
       "</div>"
      ],
      "text/plain": [
       "     new_page_id_from  new_page_id_to\n",
       "193                 1               1\n",
       "194                 1          163504\n",
       "195                 1            1688\n",
       "196                 1          107315\n",
       "197                 1            4265"
      ]
     },
     "metadata": {},
     "output_type": "display_data"
    },
    {
     "name": "stdout",
     "output_type": "stream",
     "text": [
      "** Table containing the amount of ougoing links per page **\n"
     ]
    },
    {
     "data": {
      "text/html": [
       "<div>\n",
       "<style scoped>\n",
       "    .dataframe tbody tr th:only-of-type {\n",
       "        vertical-align: middle;\n",
       "    }\n",
       "\n",
       "    .dataframe tbody tr th {\n",
       "        vertical-align: top;\n",
       "    }\n",
       "\n",
       "    .dataframe thead th {\n",
       "        text-align: right;\n",
       "    }\n",
       "</style>\n",
       "<table border=\"1\" class=\"dataframe\">\n",
       "  <thead>\n",
       "    <tr style=\"text-align: right;\">\n",
       "      <th></th>\n",
       "      <th>page_id</th>\n",
       "      <th>n_outgoing</th>\n",
       "    </tr>\n",
       "  </thead>\n",
       "  <tbody>\n",
       "    <tr>\n",
       "      <th>0</th>\n",
       "      <td>0</td>\n",
       "      <td>193.0</td>\n",
       "    </tr>\n",
       "    <tr>\n",
       "      <th>1</th>\n",
       "      <td>1</td>\n",
       "      <td>21.0</td>\n",
       "    </tr>\n",
       "    <tr>\n",
       "      <th>2</th>\n",
       "      <td>2</td>\n",
       "      <td>22.0</td>\n",
       "    </tr>\n",
       "    <tr>\n",
       "      <th>3</th>\n",
       "      <td>3</td>\n",
       "      <td>61.0</td>\n",
       "    </tr>\n",
       "    <tr>\n",
       "      <th>4</th>\n",
       "      <td>4</td>\n",
       "      <td>47.0</td>\n",
       "    </tr>\n",
       "  </tbody>\n",
       "</table>\n",
       "</div>"
      ],
      "text/plain": [
       "   page_id  n_outgoing\n",
       "0        0       193.0\n",
       "1        1        21.0\n",
       "2        2        22.0\n",
       "3        3        61.0\n",
       "4        4        47.0"
      ]
     },
     "metadata": {},
     "output_type": "display_data"
    }
   ],
   "source": [
    "print(' ** Transition matrix ** ')\n",
    "M_d=pd.DataFrame(M[0:5,0:5].todense())\n",
    "display(M_d)\n",
    "print('** Table containing links from page 1 **')\n",
    "display(data.loc[(data.new_page_id_from == 1)].head())\n",
    "print('** Table containing the amount of ougoing links per page **')\n",
    "display(n_outgoing.head())"
   ]
  },
  {
   "cell_type": "markdown",
   "metadata": {},
   "source": [
    "As explained in the 2$^{nd}$ Notebook of this project, 'eda', the sequence v, Mv, M(Mv), ...  should converge to v' such that v' is the principal eigen vector of matrix M. In order to check the convergence we calculate for 25 iterations the value of $\\vec v$ and the relative *MSE* (mean squared error):\n",
    "\n",
    "$MSE=\\frac{1}{n}\\sum_{1=1}^{n}(M_{ji}\\cdot v_i - v_i)^2 $\n",
    "\n",
    "We also remind here the v' equation:\n",
    "$v'=\\beta \\cdot M \\cdot v + (1- \\beta)\\cdot \\frac{\\vec e}{n} $"
   ]
  },
  {
   "cell_type": "code",
   "execution_count": 92,
   "metadata": {},
   "outputs": [],
   "source": [
    "MSE=[] #Empty list to store MSE values\n",
    "e=csc_matrix(np.ones((n_nodes)))/n_nodes #Create e unit vector\n",
    "number_of_steps = 25 #number of iterations over update rule\n",
    "beta=.8\n",
    "beta_minus_one = 1-beta #Probability to teleport\n",
    "\n",
    "for i in range(number_of_steps):\n",
    "        a=v_sparse.dot(M) #Calculate new v\n",
    "        v_sparse=beta*a+beta_minus_one*e #Use the update rule and set v to the new vector\n",
    "        MSE.append(mean_squared_error(a.toarray(),v_sparse.toarray()))"
   ]
  },
  {
   "cell_type": "code",
   "execution_count": 93,
   "metadata": {},
   "outputs": [
    {
     "data": {
      "image/png": "[encoded data removed]",
      "text/plain": [
       "<Figure size 432x288 with 1 Axes>"
      ]
     },
     "metadata": {
      "needs_background": "light"
     },
     "output_type": "display_data"
    }
   ],
   "source": [
    "plt.plot(MSE, color='orange', linestyle='--', marker='o')\n",
    "plt.xlabel('iteration', fontsize=15)\n",
    "plt.ylabel('MSE', fontsize=15)\n",
    "plt.xticks(fontsize=16)\n",
    "plt.yticks(fontsize=16)\n",
    "plt.grid()"
   ]
  },
  {
   "cell_type": "code",
   "execution_count": 94,
   "metadata": {},
   "outputs": [
    {
     "name": "stdout",
     "output_type": "stream",
     "text": [
      "MSE after 25 iterations: 5.357283570632631e-14\n"
     ]
    }
   ],
   "source": [
    "print(\"MSE after 25 iterations: {}\".format(MSE[-1]))"
   ]
  },
  {
   "cell_type": "markdown",
   "metadata": {},
   "source": [
    "After iterating 25 times over the update rule, we can plot the MSE after each iteration. We see that it converges somewhere between 10 and 15 iterations to $5.36 * 10^{-14}$."
   ]
  },
  {
   "cell_type": "markdown",
   "metadata": {},
   "source": [
    "### Number of Nodes Estimation"
   ]
  },
  {
   "cell_type": "markdown",
   "metadata": {},
   "source": [
    "Imagine that our computer has 1GB RAM and the average out-degree of graph G is 15. What is the maximal number of nodes of G such that this algorithm could be executed on our computer?\n",
    "\n",
    "Say we have the transition matrix M as a sparse matrix and v as a full vector. This means that the total number of (non-zero) elements in the sparse matrix is equal to the number of links and the total number of elements in v is equal to the total number of nodes. If we store every number with double precision, each element will be 64 bits. We also know that $1 bit = 1.25 * 10^{-10} GB$. \n",
    "This means that\n",
    "\n",
    "$totalGB = \\#elements * 64 * 1.25 * 10^{-10}$.\n",
    "\n",
    "Then the total amount of elements we could store in 1GB RAM would be\n",
    "\n",
    "$ \\#elements = \\frac{1GB}{64*1.25*10^{-10}} =  125000000$.\n",
    "\n",
    "If our graph has an average out-degree of 15, then each column of the transition matrix M will contain 15 elements on average. We can then write the following equation:\n",
    "\n",
    "$(125000000 - n_{nodes}) / 15 = n_{nodes}$.\n",
    "\n",
    "We can rewrite this as\n",
    "\n",
    "$\\frac{125000000}{n_{nodes}} = 16$\n",
    "\n",
    "so then\n",
    "\n",
    "$n_{nodes} = \\frac{125000000}{16} = 7812500$"
   ]
  }
 ],
 "metadata": {
  "kernelspec": {
   "display_name": "Python 3",
   "language": "python",
   "name": "python3"
  },
  "language_info": {
   "codemirror_mode": {
    "name": "ipython",
    "version": 3
   },
   "file_extension": ".py",
   "mimetype": "text/x-python",
   "name": "python",
   "nbconvert_exporter": "python",
   "pygments_lexer": "ipython3",
   "version": "3.7.2"
  }
 },
 "nbformat": 4,
 "nbformat_minor": 4
}
