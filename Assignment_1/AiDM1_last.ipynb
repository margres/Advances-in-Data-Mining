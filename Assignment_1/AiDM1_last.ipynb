{
 "cells": [
  {
   "cell_type": "markdown",
   "metadata": {},
   "source": [
    "# <center> Recommender systems </center>\n",
    "## <center> 1$^{st}$ Assignment </center>\n",
    "### <center> By Group 80 for the course Advances in Data Mining of the University of Leiden taught by Wojtek Kowalczyk </center>\n",
    "<center> Lisa Dombrovskij (s1504819) - dombrovskij@strw.leidenuniv.nl </center>\n",
    "<center> Margherita Grespan (s2233150) - grespan@strw.leidenuniv.nl </center>\n",
    "\n",
    "\n",
    "In this work we study a typical *collaborative filtering problem*. Collaborative filtering is a technique used by recommender systems. \n",
    "In the past few decades this field of machine learning has been used for services like Netflix, Amazon, YouTube, and from  e-commerce to the ads on social media. The purpose of this technique is to make automatic predictions with known information about the taste of the user (previous ratings of movies, in this case). \n",
    "We will use a database containing movie ratings of a multitude of people and test different ways to implement a recommender system. The purpose is to implement different approaches using 5-fold cross-validation, understand how they work and pick the best combination of values to minimize the Root Mean Square Error (*RMSE*).\n",
    "\n",
    "First, we implement 4 **naive approaches**, using four different parameters that all measure an aspect of the ratings in a unique way:\n",
    "- **$R_{global}$** : Global average rating. The mean of all the ratings in the dataset.\n",
    "- **$R_{item}$** : Average rating per item. The mean of all the ratings  given to a specific movie.\n",
    "- **$R_{user}$** : Average rating per user. The mean of all the ratings given by a specific user.\n",
    "- **$R_{user-item}$** : Linear combination of the previous two quantities.\n",
    "\n",
    "Using $R_{global}$ is the simplest approach out of these four parameters. Because of this, we expect it to perform the worst. As $R_{user-item}$ incorporates both a measure of how well a movie does on average, as well as how the individual user rates movies, we expect it to perform better than the other three approaches. \n",
    "\n",
    "Besides these four *naive* approaches, a more sophisticated method will also be implemented. In this approach, named **matrix factorization**, the Gradient Descent algorithm is applied in order to minimize the error between the predicted and the true rating. These method has been proposed by [Takàcs et al. on 2007](https://www.cs.uic.edu/~liub/KDD-cup-2007/proceedings/gravity-Tikk.pdf/) and we will use their parameters configuration as starting point for our analysis.\n",
    "\n",
    "## The dataset\n",
    "\n",
    "This jupyter notebook uses the [1M movie ratings](https://grouplens.org/datasets/movielens/) dataset. \n",
    "We use files containing 1,000,209 anonymous ratings of approximately 3,900 movies made by 6,040 MovieLens users who joined MovieLens in 2000. Each movie and user are unically identified by a *movie-ID* and *user-ID* respectively.  The data are contained in three tables with rating-, user- and movie statics:\n",
    "- The **ratings** table contains information about the movies rating given by users: <UserID | MovieID | Rating | Timestamp>\n",
    "- The **users** table encloses the information about the user who rated a movie like gender, age, occupation and zip code: <UserID |Gender | Age | Occupation | Zip-code>. \n",
    "- The **movies** table incorporates the name and genres of the movies: <MovieID | Title | Genres>\n",
    "\n",
    "For this research, only the ratings table is relevant. "
   ]
  },
  {
   "cell_type": "markdown",
   "metadata": {},
   "source": [
    "## Method\n",
    "\n",
    "First, all the relevant packages are imported for plotting, storing data and modelling. "
   ]
  },
  {
   "cell_type": "code",
   "execution_count": 3,
   "metadata": {},
   "outputs": [],
   "source": [
    "import pandas as pd\n",
    "import numpy as np\n",
    "import time\n",
    "import matplotlib.pyplot as plt\n",
    "from sklearn.metrics import mean_squared_error\n",
    "import pickle\n",
    "from sklearn.model_selection import KFold\n",
    "np.warnings.filterwarnings('ignore')"
   ]
  },
  {
   "cell_type": "markdown",
   "metadata": {},
   "source": [
    "### Preprocessing\n",
    "\n",
    "Before we are able to implement the models, the data needs to be imported and preprocessed. The indices of the user-IDs and movie-IDs start at 1. Since it is custom to start counting from zero in Python, we subtract 1 from every index. This way, the indexing starts at 0. \n",
    "\n",
    "For a more robust model, 5-fold cross-validation is used. The data is randomly divided in 5 folds, or parts. The data is then trained on each combination of four trainingsets and a single testset, in such a way that each fold is used as a testset once. This method results in a model that is more generally applicable and avoids overfitting. "
   ]
  },
  {
   "cell_type": "code",
   "execution_count": 4,
   "metadata": {},
   "outputs": [],
   "source": [
    "#Read the data\n",
    "movies_main = pd.read_csv('ml-1m/movies.dat', header=None, sep='::', names=['movie_ID','movie_name','movie_genre'])\n",
    "users_main = pd.read_csv('ml-1m/users.dat', header=None, sep='::', names = ['user_ID','gender','age','occupation','zipcode'])\n",
    "ratings_main = pd.read_csv('ml-1m/ratings.dat', header=None, sep='::', names = ['user_ID','movie_ID','rating','timestamp'])\n",
    "\n",
    "#Shift all indices back by one so it starts at 0\n",
    "users_main.user_ID = users_main.user_ID-1 \n",
    "movies_main.movie_ID = movies_main.movie_ID-1\n",
    "ratings_main.user_ID = ratings_main.user_ID-1\n",
    "ratings_main.movie_ID = ratings_main.movie_ID-1"
   ]
  },
  {
   "cell_type": "code",
   "execution_count": 5,
   "metadata": {},
   "outputs": [
    {
     "name": "stdout",
     "output_type": "stream",
     "text": [
      "Amount of unique users in dataset: 6040\n"
     ]
    }
   ],
   "source": [
    "print('Amount of unique users in dataset: {}'.format(ratings_main.user_ID.nunique()))"
   ]
  },
  {
   "cell_type": "code",
   "execution_count": 6,
   "metadata": {},
   "outputs": [],
   "source": [
    "def preprocess(X):\n",
    "    \n",
    "    '''\n",
    "    Split the dataset into five folds. Every fold is used as a testset once.\n",
    "    '''\n",
    "    \n",
    "    kf = KFold(n_splits=5, shuffle=True) #Define number of folds\n",
    "    \n",
    "    training_sets = []\n",
    "    test_sets = []\n",
    "    \n",
    "    for train_index, test_index in kf.split(X):\n",
    "        \n",
    "        X_train, X_test = X.iloc[train_index], X.iloc[test_index]\n",
    "        training_sets.append(X_train)\n",
    "        test_sets.append(X_test)\n",
    "\n",
    "    return training_sets, test_sets"
   ]
  },
  {
   "cell_type": "code",
   "execution_count": 7,
   "metadata": {},
   "outputs": [],
   "source": [
    "training_sets, test_sets = preprocess(ratings_main) #Split into five folds"
   ]
  },
  {
   "cell_type": "markdown",
   "metadata": {},
   "source": [
    "# Global Average Rating - $R_{global}$"
   ]
  },
  {
   "cell_type": "markdown",
   "metadata": {},
   "source": [
    "The first model that is used to predict the ratings for movies given by users, is based on the $R_{global}$ parameter. This parameter is defined as follows:\n",
    "\n",
    "$R_{global} = \\frac{1}{n} \\sum_{i=1}^{i=n} rating_{i} $\n",
    "\n",
    "With $rating_{i}$ the $i^{th}$ rating and n the total number of ratings in the dataset. This equation calculate the mean of all the ratings.  "
   ]
  },
  {
   "cell_type": "code",
   "execution_count": 8,
   "metadata": {},
   "outputs": [],
   "source": [
    "def r_global(data):\n",
    "    #Returns mean of all ratings\n",
    "    return np.mean(data.rating.values)"
   ]
  },
  {
   "cell_type": "code",
   "execution_count": 9,
   "metadata": {},
   "outputs": [
    {
     "name": "stdout",
     "output_type": "stream",
     "text": [
      "Based on this dataset R_global = 3.58\n"
     ]
    }
   ],
   "source": [
    "print('Based on this dataset R_global = {}'.format(round(r_global(ratings_main), 2)))"
   ]
  },
  {
   "cell_type": "markdown",
   "metadata": {},
   "source": [
    "For every fold, $R_{global}$ is calculated for the trainingset and this rating is used as the prediction for the training- and testset. For both the sets the RMSE (Root Mean Squared Error) is calculated, which is defined as\n",
    "\n",
    "$RMSE = \\sqrt{\\frac{1}{n} \\sum_{i=1}^{i=n} (Y_{i} - \\hat{Y}_{i})^2}$.\n",
    "\n",
    "With n the total number of samples, $Y_{i}$ the true value of the $i^{th}$ sample and $\\hat{Y}_{i}$ the prediction by the model of the $i^{th}$ sample."
   ]
  },
  {
   "cell_type": "code",
   "execution_count": 10,
   "metadata": {},
   "outputs": [
    {
     "name": "stdout",
     "output_type": "stream",
     "text": [
      "Total time to run the model: 0.5275089740753174\n"
     ]
    }
   ],
   "source": [
    "rmse_trainsets = []\n",
    "rmse_testsets = []\n",
    "\n",
    "start_time = time.time()\n",
    "\n",
    "for trainset, testset in zip(training_sets, test_sets):\n",
    "    \n",
    "        global_avg = r_global(trainset) #Take mean rating of all ratings in trainset, this is the prediction\n",
    "\n",
    "        pred_train = [global_avg] * len(trainset)\n",
    "        pred_test = [global_avg] * len(testset)\n",
    "\n",
    "        rmse_trainsets.append(np.sqrt(mean_squared_error(trainset.rating.values, pred_train))) #Take error of prediction with true ratings\n",
    "        rmse_testsets.append(np.sqrt(mean_squared_error(testset.rating.values, pred_test)))\n",
    "        \n",
    "elapsed_time = time.time() - start_time\n",
    "print('Total time to run the model: {}'.format(elapsed_time))"
   ]
  },
  {
   "cell_type": "markdown",
   "metadata": {},
   "source": [
    "The eventual root mean squared error of the trainingset for this model is the average of the root mean squared errors of the trainingset of every fold. The same is true for the root mean squared error of the testset. "
   ]
  },
  {
   "cell_type": "code",
   "execution_count": 11,
   "metadata": {},
   "outputs": [
    {
     "name": "stdout",
     "output_type": "stream",
     "text": [
      "Root Mean Squared Error Trainingset: 1.12\n",
      "Root Mean Squared Error Testset: 1.12.\n"
     ]
    }
   ],
   "source": [
    "#print(mse_trainsets)\n",
    "#print(mse_testsets)\n",
    "print('Root Mean Squared Error Trainingset: {}'.format(round(np.mean(rmse_trainsets),2)))\n",
    "print('Root Mean Squared Error Testset: {}.'.format(round(np.mean(rmse_testsets),2)))"
   ]
  },
  {
   "cell_type": "markdown",
   "metadata": {},
   "source": [
    "## Average Rating per item - $R_{item}$"
   ]
  },
  {
   "cell_type": "markdown",
   "metadata": {},
   "source": [
    "The next model is based on the parameter $R_{item}$. The definition of this parameter for a specific movie is\n",
    "\n",
    "$R_{item,movie_{ID}} = \\frac{1}{k} \\sum_{i=1}^{i=k} rating_{i}$.\n",
    "\n",
    "With k the total number of ratings given to the specific movie and $rating_{i}$ the $i^{th}$ rating given to this movie.  This parameter calculates the average mean per movie. "
   ]
  },
  {
   "cell_type": "code",
   "execution_count": 12,
   "metadata": {},
   "outputs": [],
   "source": [
    "def r_item(movie_ID):\n",
    "    #Returns the mean of all the ratings given to the specified movie\n",
    "    return np.mean(ratings_main.loc[ratings_main.movie_ID == movie_ID].rating.values)"
   ]
  },
  {
   "cell_type": "code",
   "execution_count": 13,
   "metadata": {},
   "outputs": [
    {
     "name": "stdout",
     "output_type": "stream",
     "text": [
      "For example R_(item, 101) is 1.82\n"
     ]
    }
   ],
   "source": [
    "print('For example R_(item, 101) is {}'.format(round(r_item(101),2)))"
   ]
  },
  {
   "cell_type": "markdown",
   "metadata": {},
   "source": [
    "This way, $R_{item}$ is calculated for every movie in the dataset and these values are put in a table."
   ]
  },
  {
   "cell_type": "code",
   "execution_count": 14,
   "metadata": {},
   "outputs": [],
   "source": [
    "#Create a dataframe with the R_item for every movie_ID\n",
    "pred_frame_r_item = pd.DataFrame({'movie_ID': ratings_main.movie_ID.unique()})\n",
    "pred_frame_r_item['r_item'] = pred_frame_r_item.apply(lambda x: r_item(x.movie_ID), axis=1)"
   ]
  },
  {
   "cell_type": "code",
   "execution_count": 15,
   "metadata": {},
   "outputs": [
    {
     "data": {
      "text/html": [
       "<div>\n",
       "<style scoped>\n",
       "    .dataframe tbody tr th:only-of-type {\n",
       "        vertical-align: middle;\n",
       "    }\n",
       "\n",
       "    .dataframe tbody tr th {\n",
       "        vertical-align: top;\n",
       "    }\n",
       "\n",
       "    .dataframe thead th {\n",
       "        text-align: right;\n",
       "    }\n",
       "</style>\n",
       "<table border=\"1\" class=\"dataframe\">\n",
       "  <thead>\n",
       "    <tr style=\"text-align: right;\">\n",
       "      <th></th>\n",
       "      <th>movie_ID</th>\n",
       "      <th>r_item</th>\n",
       "    </tr>\n",
       "  </thead>\n",
       "  <tbody>\n",
       "    <tr>\n",
       "      <th>0</th>\n",
       "      <td>1192</td>\n",
       "      <td>4.390725</td>\n",
       "    </tr>\n",
       "    <tr>\n",
       "      <th>1</th>\n",
       "      <td>660</td>\n",
       "      <td>3.464762</td>\n",
       "    </tr>\n",
       "    <tr>\n",
       "      <th>2</th>\n",
       "      <td>913</td>\n",
       "      <td>4.154088</td>\n",
       "    </tr>\n",
       "    <tr>\n",
       "      <th>3</th>\n",
       "      <td>3407</td>\n",
       "      <td>3.863878</td>\n",
       "    </tr>\n",
       "    <tr>\n",
       "      <th>4</th>\n",
       "      <td>2354</td>\n",
       "      <td>3.854375</td>\n",
       "    </tr>\n",
       "  </tbody>\n",
       "</table>\n",
       "</div>"
      ],
      "text/plain": [
       "   movie_ID    r_item\n",
       "0      1192  4.390725\n",
       "1       660  3.464762\n",
       "2       913  4.154088\n",
       "3      3407  3.863878\n",
       "4      2354  3.854375"
      ]
     },
     "execution_count": 15,
     "metadata": {},
     "output_type": "execute_result"
    }
   ],
   "source": [
    "pred_frame_r_item.head()"
   ]
  },
  {
   "cell_type": "markdown",
   "metadata": {},
   "source": [
    "The above is an example of the first five lines of the $R_{item}$ table."
   ]
  },
  {
   "cell_type": "code",
   "execution_count": 16,
   "metadata": {},
   "outputs": [
    {
     "data": {
      "image/png": "[encoded data removed]",
      "text/plain": [
       "<Figure size 648x432 with 1 Axes>"
      ]
     },
     "metadata": {
      "needs_background": "light"
     },
     "output_type": "display_data"
    }
   ],
   "source": [
    "pred_frame_r_item.plot(y='r_item', kind='hist', color='orange',label = '_nolegend_', figsize=[9,6])\n",
    "plt.axvline(x=pred_frame_r_item.r_item.mean(), color='red', ls='--',label='Mean $R_{item}$')\n",
    "\n",
    "plt.xticks(fontsize=15)\n",
    "plt.yticks(fontsize=15)\n",
    "plt.xlabel('$R_{item}$',fontsize=16)\n",
    "plt.ylabel('Frequency', fontsize=16)\n",
    "plt.legend(fontsize=15);"
   ]
  },
  {
   "cell_type": "code",
   "execution_count": 17,
   "metadata": {},
   "outputs": [
    {
     "name": "stdout",
     "output_type": "stream",
     "text": [
      "Mean of all R_(item) values: 3.24\n"
     ]
    }
   ],
   "source": [
    "print('Mean of all R_(item) values: {}'.format(round(pred_frame_r_item.r_item.mean(),2)))"
   ]
  },
  {
   "cell_type": "markdown",
   "metadata": {},
   "source": [
    "The figure above displays the distribution of $R_{item}$ for all the movies. The mean of the parameter is 3.24 and most movies have an average rating between 3 and 4."
   ]
  },
  {
   "cell_type": "markdown",
   "metadata": {},
   "source": [
    "The model is trained by looping over each fold and calculating the RMSE on the trainingset and testset by using the table of $R_{item}$ values as the prediction for the rating that the user will give to each movie. "
   ]
  },
  {
   "cell_type": "code",
   "execution_count": 18,
   "metadata": {},
   "outputs": [
    {
     "name": "stdout",
     "output_type": "stream",
     "text": [
      "Total time to run the model: 1.0133848190307617\n"
     ]
    }
   ],
   "source": [
    "rmse_trainsets = []\n",
    "rmse_testsets = []\n",
    "\n",
    "start_time = time.time()\n",
    "\n",
    "for trainset, testset in zip(training_sets, test_sets):\n",
    "    \n",
    "    #Add R_item of every movie to the movies in the trainingset\n",
    "    temp_train = pd.merge(trainset, pred_frame_r_item, on='movie_ID', how='left') \n",
    "    pred_train = temp_train.r_item #This is the prediction\n",
    "    \n",
    "    #Add R_item of every movie to the movies in the testset\n",
    "    temp_test = pd.merge(testset, pred_frame_r_item, on='movie_ID', how='left')\n",
    "    pred_test = temp_test.r_item #this is the prediction\n",
    "\n",
    "    rmse_trainsets.append(np.sqrt(mean_squared_error(trainset.rating.values, pred_train)))\n",
    "    rmse_testsets.append(np.sqrt(mean_squared_error(testset.rating.values, pred_test)))\n",
    "    \n",
    "elapsed_time = time.time() - start_time\n",
    "print('Total time to run the model: {}'.format(elapsed_time))"
   ]
  },
  {
   "cell_type": "markdown",
   "metadata": {},
   "source": [
    "Again, the mean RMSE is taken over all the folds for the trainingset and testset respectively."
   ]
  },
  {
   "cell_type": "code",
   "execution_count": 19,
   "metadata": {},
   "outputs": [
    {
     "name": "stdout",
     "output_type": "stream",
     "text": [
      "Root Mean Squared Error Trainingset: 0.97\n",
      "Root Mean Squared Error Testset: 0.97.\n"
     ]
    }
   ],
   "source": [
    "#print(rmse_trainsets)\n",
    "#print(rmse_testsets)\n",
    "\n",
    "print('Root Mean Squared Error Trainingset: {}'.format(round(np.mean(rmse_trainsets),2)))\n",
    "print('Root Mean Squared Error Testset: {}.'.format(round(np.mean(rmse_testsets),2)))"
   ]
  },
  {
   "cell_type": "markdown",
   "metadata": {},
   "source": [
    "This model works better than the model using $R_{global}$, as the RMSE went down from 1.12 to 0.97."
   ]
  },
  {
   "cell_type": "markdown",
   "metadata": {},
   "source": [
    "## Average Rating per user - $R_{user}$\n",
    "\n",
    "Another parameter that can be used as a model is $R_{user}$. This parameter is very similar to the $R_{item}$ parameter, but instead of taking the average over all ratings of a movie, the average of all ratings of a user is taken. This number gives the predicted rating for the next movie that the user will rate. The equation for $R_{user}$ for a specific user is\n",
    "\n",
    "$R_{user,user_{ID}} = \\frac{1}{p} \\sum_{i=1}^{i=p} rating_{i}$.\n",
    "\n",
    "With p the total number of movies rated by the specific user, and $rating_{i}$ the $i^{th}$ rating given by the user."
   ]
  },
  {
   "cell_type": "code",
   "execution_count": 20,
   "metadata": {},
   "outputs": [],
   "source": [
    "def r_user(user_ID):\n",
    "    #Returns mean of all ratings given by the specified user\n",
    "    return np.mean(ratings_main.loc[ratings_main.user_ID == user_ID].rating.values)"
   ]
  },
  {
   "cell_type": "code",
   "execution_count": 21,
   "metadata": {},
   "outputs": [
    {
     "name": "stdout",
     "output_type": "stream",
     "text": [
      "For example R_(user, 101) is 3.13\n"
     ]
    }
   ],
   "source": [
    "print('For example R_(user, 101) is {}'.format(round(r_user(101),2)))"
   ]
  },
  {
   "cell_type": "code",
   "execution_count": 22,
   "metadata": {},
   "outputs": [],
   "source": [
    "#Create a dataframe with the R_user for every user_ID\n",
    "pred_frame_r_user = pd.DataFrame({'user_ID': ratings_main.user_ID.unique()})\n",
    "pred_frame_r_user['r_user'] = pred_frame_r_user.apply(lambda x: r_user(x.user_ID), axis=1)"
   ]
  },
  {
   "cell_type": "code",
   "execution_count": 23,
   "metadata": {},
   "outputs": [
    {
     "data": {
      "text/html": [
       "<div>\n",
       "<style scoped>\n",
       "    .dataframe tbody tr th:only-of-type {\n",
       "        vertical-align: middle;\n",
       "    }\n",
       "\n",
       "    .dataframe tbody tr th {\n",
       "        vertical-align: top;\n",
       "    }\n",
       "\n",
       "    .dataframe thead th {\n",
       "        text-align: right;\n",
       "    }\n",
       "</style>\n",
       "<table border=\"1\" class=\"dataframe\">\n",
       "  <thead>\n",
       "    <tr style=\"text-align: right;\">\n",
       "      <th></th>\n",
       "      <th>user_ID</th>\n",
       "      <th>r_user</th>\n",
       "    </tr>\n",
       "  </thead>\n",
       "  <tbody>\n",
       "    <tr>\n",
       "      <th>0</th>\n",
       "      <td>0</td>\n",
       "      <td>4.188679</td>\n",
       "    </tr>\n",
       "    <tr>\n",
       "      <th>1</th>\n",
       "      <td>1</td>\n",
       "      <td>3.713178</td>\n",
       "    </tr>\n",
       "    <tr>\n",
       "      <th>2</th>\n",
       "      <td>2</td>\n",
       "      <td>3.901961</td>\n",
       "    </tr>\n",
       "    <tr>\n",
       "      <th>3</th>\n",
       "      <td>3</td>\n",
       "      <td>4.190476</td>\n",
       "    </tr>\n",
       "    <tr>\n",
       "      <th>4</th>\n",
       "      <td>4</td>\n",
       "      <td>3.146465</td>\n",
       "    </tr>\n",
       "  </tbody>\n",
       "</table>\n",
       "</div>"
      ],
      "text/plain": [
       "   user_ID    r_user\n",
       "0        0  4.188679\n",
       "1        1  3.713178\n",
       "2        2  3.901961\n",
       "3        3  4.190476\n",
       "4        4  3.146465"
      ]
     },
     "execution_count": 23,
     "metadata": {},
     "output_type": "execute_result"
    }
   ],
   "source": [
    "pred_frame_r_user.head()"
   ]
  },
  {
   "cell_type": "markdown",
   "metadata": {},
   "source": [
    "Just as for $R_{item}$, a table is created with the $R_{user}$ value for every unique user-ID. These values are used as the prediction values for the model. The first five lines of this table can be seen above. "
   ]
  },
  {
   "cell_type": "code",
   "execution_count": 24,
   "metadata": {},
   "outputs": [
    {
     "data": {
      "image/png": "[encoded data removed]",
      "text/plain": [
       "<Figure size 648x432 with 1 Axes>"
      ]
     },
     "metadata": {
      "needs_background": "light"
     },
     "output_type": "display_data"
    }
   ],
   "source": [
    "pred_frame_r_user.plot(y='r_user', kind='hist', color='orange',label = '_nolegend_', figsize=[9,6])\n",
    "plt.axvline(x=pred_frame_r_user.r_user.mean(), color='red', ls='--',label='Mean $R_{user}$')\n",
    "\n",
    "plt.xticks(fontsize=15)\n",
    "plt.yticks(fontsize=15)\n",
    "plt.xlabel('$R_{user}$',fontsize=16)\n",
    "plt.ylabel('Frequency', fontsize=16)\n",
    "plt.legend(fontsize=15);"
   ]
  },
  {
   "cell_type": "code",
   "execution_count": 25,
   "metadata": {},
   "outputs": [
    {
     "name": "stdout",
     "output_type": "stream",
     "text": [
      "Mean of all R_(user) values: 3.7\n"
     ]
    }
   ],
   "source": [
    "print('Mean of all R_(user) values: {}'.format(round(pred_frame_r_user.r_user.mean(),2)))"
   ]
  },
  {
   "cell_type": "markdown",
   "metadata": {},
   "source": [
    "The figure above displays the distribution of $R_{user}$ for all users. The average $R_{user}$ is 3.7 and most of the $R_{user}$ values are distributed between 3 and 4, this means that most users rate their movies between 3 and 4 on average."
   ]
  },
  {
   "cell_type": "markdown",
   "metadata": {},
   "source": [
    "Below, the $R_{user}$ model is trained in the same way as the $R_{item}$ model; We loop over the five folds, predict each sample in the trainingset and testset using the $R_{user}$ prediction values and calculate the RMSE for both sets. Then, the average RMSE over all trainingsets and testsets, respectively, is taken to be the final trainerror and testerror of the model. "
   ]
  },
  {
   "cell_type": "code",
   "execution_count": 26,
   "metadata": {},
   "outputs": [
    {
     "name": "stdout",
     "output_type": "stream",
     "text": [
      "Total time to run the model: 0.7016680240631104\n"
     ]
    }
   ],
   "source": [
    "rmse_trainsets = []\n",
    "rmse_testsets = []\n",
    "\n",
    "\n",
    "start_time = time.time()\n",
    "\n",
    "for trainset, testset in zip(training_sets, test_sets):\n",
    "    \n",
    "    #Add R_user of every user to the users in the trainingset\n",
    "    temp_train = pd.merge(trainset, pred_frame_r_user, on='user_ID', how='left')\n",
    "    pred_train = temp_train.r_user\n",
    "\n",
    "    #Add R_user of every user to the users in the testset\n",
    "    temp_test = pd.merge(testset, pred_frame_r_user, on='user_ID', how='left')\n",
    "    pred_test = temp_test.r_user\n",
    "\n",
    "    rmse_trainsets.append(np.sqrt(mean_squared_error(trainset.rating.values, pred_train)))\n",
    "    rmse_testsets.append(np.sqrt(mean_squared_error(testset.rating.values, pred_test)))\n",
    "    \n",
    "elapsed_time = time.time() - start_time\n",
    "print('Total time to run the model: {}'.format(elapsed_time))"
   ]
  },
  {
   "cell_type": "code",
   "execution_count": 27,
   "metadata": {},
   "outputs": [
    {
     "name": "stdout",
     "output_type": "stream",
     "text": [
      "Root Mean Squared Error Trainingset: 1.03\n",
      "Root Mean Squared Error Testset: 1.03.\n"
     ]
    }
   ],
   "source": [
    "#rounded_trainset = [ '%.2f' % elem for elem in rmse_trainsets ]\n",
    "#rounded_testset = [ '%.2f' % elem for elem in rmse_testsets ]\n",
    "#print('Root Mean Squared Error Training Set for every fold:', rounded_trainset) ##why do we have folds here?\n",
    "#print('Root Mean Squared Error Training Set for every fold:', rounded_testset)\n",
    "\n",
    "print('Root Mean Squared Error Trainingset: {}'.format(round(np.mean(rmse_trainsets),2)))\n",
    "print('Root Mean Squared Error Testset: {}.'.format(round(np.mean(rmse_testsets),2)))"
   ]
  },
  {
   "cell_type": "markdown",
   "metadata": {},
   "source": [
    "This model has a slightly higher error than the $R_{item}$ model (0.97), but has a lower error than the $R_{global}$ model (1.12)."
   ]
  },
  {
   "cell_type": "markdown",
   "metadata": {},
   "source": [
    "## Linear Combination User Item - $R_{user,item}$\n",
    "\n",
    "A reasonable first attempt at combing the $R_{user}$ and $R_{item}$ parameters is by using both of them in a single, linear model. This model will look as follows:\n",
    "\n",
    "$y = \\alpha \\cdot x_{1} + \\beta \\cdot x_{2} + \\gamma$\n",
    "\n",
    "With $\\alpha$, $\\beta$ and $\\gamma$ the constants that have to be optimized by the model, $x_{1}$ the $R_{user}$ values, $x_{2}$ the $R_{item}$ values and $y$ the rating given by the user to a particular movie. \n",
    "\n",
    "For a single fold, every $(R_{user}$,$R_{item})$ combination is a datapoint $(x_{1},x_{2})$ and the rating corresponding to this user/movie combination is the result of the linear equation. The linear model is fitted to the trainingset data. The best fitting constants are used to predict each datapoint in the train- and testset. "
   ]
  },
  {
   "cell_type": "code",
   "execution_count": 28,
   "metadata": {},
   "outputs": [],
   "source": [
    "def lin_eq(x1, x2, a, b, g):\n",
    "    \n",
    "    return a*x1+b*x2+g"
   ]
  },
  {
   "cell_type": "markdown",
   "metadata": {},
   "source": [
    "The model is trained by looping over the folds. For each fold, the linear equation is fitted to the trainingset, using the least-squares method. This method minimizes the squared Euclidean 2-norm $\\| b - a x \\|^2_2$ for the equation $ax = b$.\n",
    "This best fit is then used to predict the samples in testset. The RMSE is again calculated for the trainset and testset of every fold, and then the average is taken to obtain the average trainerror and testerror of the model."
   ]
  },
  {
   "cell_type": "code",
   "execution_count": 29,
   "metadata": {},
   "outputs": [
    {
     "name": "stdout",
     "output_type": "stream",
     "text": [
      "Total time to run the model: 2.0535807609558105\n"
     ]
    }
   ],
   "source": [
    "rmse_trainsets = []\n",
    "rmse_testsets = []\n",
    "\n",
    "\n",
    "start_time = time.time()\n",
    "\n",
    "for trainset, testset in zip(training_sets, test_sets):\n",
    "    \n",
    "    #Add r_user and r_item to every entry in the trainingset\n",
    "    temp = pd.merge(trainset, pred_frame_r_user, on = 'user_ID', how='left')\n",
    "    full_table_train = pd.merge(temp, pred_frame_r_item, on='movie_ID', how='left')\n",
    "    \n",
    "    #Add r_user and r_item to every entry in the testset\n",
    "    temp1 = pd.merge(testset, pred_frame_r_user, on = 'user_ID', how='left')\n",
    "    full_table_test = pd.merge(temp1, pred_frame_r_item, on='movie_ID', how='left')\n",
    "\n",
    "    full_table_train['extra_col'] = 1 #Add extra column with a constant so the linear fit works\n",
    "    \n",
    "    input_data = full_table_train[['r_user','r_item','extra_col']]\n",
    "    output_data = full_table_train[['rating']].values\n",
    "    \n",
    "    #Fit a linear model to the input and output data\n",
    "    #The model is y = alpha * r_user + beta * r_item + gamma\n",
    "    alpha, beta, gamma = np.linalg.lstsq(input_data, output_data)[0] \n",
    "    \n",
    "    #Predict the trainingset with the linear model\n",
    "    pred_train = lin_eq(full_table_train.r_user, full_table_train.r_item, alpha, beta, gamma)\n",
    "    #Predict the testset with the linear model\n",
    "    pred_test = lin_eq(full_table_test.r_user, full_table_test.r_item, alpha, beta, gamma)\n",
    "    \n",
    "    rmse_trainsets.append(np.sqrt(mean_squared_error(trainset.rating.values, pred_train)))\n",
    "    rmse_testsets.append(np.sqrt(mean_squared_error(testset.rating.values, pred_test)))\n",
    "\n",
    "elapsed_time = time.time() - start_time\n",
    "print('Total time to run the model: {}'.format(elapsed_time))"
   ]
  },
  {
   "cell_type": "code",
   "execution_count": 30,
   "metadata": {},
   "outputs": [
    {
     "name": "stdout",
     "output_type": "stream",
     "text": [
      "Root Mean Squared Error Trainingset: 0.92\n",
      "Root Mean Squared Error Testset: 0.92.\n"
     ]
    }
   ],
   "source": [
    "#print(rmse_trainsets)\n",
    "#print(rmse_testsets)\n",
    "\n",
    "print('Root Mean Squared Error Trainingset: {}'.format(round(np.mean(rmse_trainsets),2)))\n",
    "print('Root Mean Squared Error Testset: {}.'.format(round(np.mean(rmse_testsets),2)))"
   ]
  },
  {
   "cell_type": "markdown",
   "metadata": {},
   "source": [
    "### Overview of Results Naive Models"
   ]
  },
  {
   "cell_type": "markdown",
   "metadata": {},
   "source": [
    "\n",
    "| Method      |  RMSE train |  RMSE test| Run time |\n",
    "|-------------|-------|------|----------|\n",
    "|   $R_{global}$  | 1.12  | 1.12 |  0.47s   |\n",
    "|    $R_{item}$   | 0.97  | 0.97 |  0.86s   |\n",
    "|    $R_{user}$   | 1.03  | 1.03 |  0.60s   |\n",
    "| $R_{user-item}$ | 0.92  | 0.92 |  2.17s   |\n",
    "\n",
    "The above table displays the results of the four naive approaches implemented as a recommender system for movie ratings by different users. The RMSE values are the averages taken over all folds after 5-fold cross-validation. The time it takes to run the model is also shown.\n",
    "\n",
    "As we expected, the $R_{global}$ has the greatest error and $R_{user-item}$ the lowest. Notably, the errors of the trainset and testset do not differ for any of the methods when rounded to two decimals. "
   ]
  },
  {
   "cell_type": "markdown",
   "metadata": {},
   "source": [
    "## Matrix Factorization - Gradient Descent\n",
    "\n",
    "Matrix factorization was first proposed by [Simon Funk](https://sifter.org/~simon/journal/20061211.html) in 2006.\n",
    "This approach now is widely used in recommender systems. The concept behind it is to decompose a matrix, in this case the $R_{user-item}$ matrix, into the product of two lower dimension matrices. Essentially, it looks like\n",
    "\n",
    "$R\\approx U\\cdot M\\$,\n",
    "\n",
    "with U and M weight matrices. U has a row for each user and M a column for each movie. The columns of U and rows of M stand for the features. So U will have a shape (number of users, number of features) and M will be (number of features, number of movies).\n",
    "\n",
    "U and M are initialized with random values drawn from a Gaussian normal distribution: \n",
    "\n",
    " $\\mathcal{N}\\left ( \\sqrt{\\frac{\\overline{R_{fold,trainingset}}}{n}} , \\frac{1}{n^{2}}\\right )$,\n",
    " \n",
    " where $\\overline{R_{fold,trainingset}}$ is the mean of the ratings of the trainingset in a fold and n the number of features. In order to find the best U and M values, i.e. minimize the error, we use the algorithm proposed by Takàcs et al. (2007). For every movie-user combination we compute the R matrix and subsequently the error. The error is simply the difference between the True ratings and the predicted ones:\n",
    "\n",
    "$ e=True \\, ratings - R $\n",
    "\n",
    "Takàcs and his group propose to minimize the RMSE with the use of the Gradient Descent algorithm. This can be written as:\n",
    "\n",
    "$u_{ik}^{'}=u_{ik}+\\eta \\cdot (2\\cdot e_{ij}\\cdot m_{kj}-\\lambda \\cdot u_{ik})$\n",
    "\n",
    "$m_{kj}^{'}=m_{kj}+\\eta \\cdot (2\\cdot e_{ij}\\cdot u_{ik}-\\lambda \\cdot m_{kj})$\n",
    "\n",
    "With $u_{ik}$ and $m_{kj}$ respectively the weight of the user and movie in the (i,k), (k,j) position and $e_{ij}$ the  error of the $i^{th}$ user $k^{th}$ movie combination. $\\lambda$ is a small positive constant used as a regularization factor in order to avoid exploding weights and $\\eta$ is the learning rate. \n",
    "Fundamentally, we predict the rating, compare it with the true value and adjust the weights in the opposite direction of the gradient.\n",
    "\n",
    "The true-ratings matrix is a (6040, 3952) matrix, which contains the true rating for every user/movie combination by index. If the user did not rate the specific movie, the matrix contains a zero.\n",
    "\n",
    "For every fold, new weight matrices U and M are initiated and trained using the above algorithm. After training for a set number of iterations, the final prediction for all user/movie combinations can be obtained by multiplying U and M and clipping the results between 1 and 5 (because there might be predictions below 1, which are set to 1 and predictions above 5, which are set to 5). This results in a prediction matrix with the same shape as the true-ratings matrix and corresponding indexing. The RMSE can then be calculated for the train samples and test samples, resulting in a trainset error and testset error for each fold. The average over the five folds is the final RMSE of the model."
   ]
  },
  {
   "cell_type": "code",
   "execution_count": 31,
   "metadata": {},
   "outputs": [],
   "source": [
    "temp = pd.merge(ratings_main, pred_frame_r_user, on = 'user_ID', how='left') #Merge the ratings with r_user and r_item values\n",
    "full_table = pd.merge(temp, pred_frame_r_item, on='movie_ID', how='left')"
   ]
  },
  {
   "cell_type": "code",
   "execution_count": 32,
   "metadata": {},
   "outputs": [],
   "source": [
    "#Create empty matrix to be filled with true ratings\n",
    "true_ratings = np.zeros((np.max(full_table.user_ID.values)+1,np.max(full_table.movie_ID.values)+1))"
   ]
  },
  {
   "cell_type": "code",
   "execution_count": 33,
   "metadata": {},
   "outputs": [
    {
     "data": {
      "text/plain": [
       "(6040, 3952)"
      ]
     },
     "execution_count": 33,
     "metadata": {},
     "output_type": "execute_result"
    }
   ],
   "source": [
    "true_ratings.shape #Check the shape"
   ]
  },
  {
   "cell_type": "code",
   "execution_count": 34,
   "metadata": {},
   "outputs": [],
   "source": [
    "#Fill the true ratings matrix with the true rating for every movie, nonexisting user/movie combinations remain having\n",
    "#a value of zero.\n",
    "for i, row in full_table.iterrows():\n",
    "    true_ratings[int(row.user_ID), int(row.movie_ID)] = row.rating"
   ]
  },
  {
   "cell_type": "code",
   "execution_count": 35,
   "metadata": {},
   "outputs": [],
   "source": [
    "#num_features=20 \n",
    "num_features = 40\n",
    "num_users = np.max(full_table.user_ID.values)+1\n",
    "num_movies = np.max(full_table.movie_ID.values)+1"
   ]
  },
  {
   "cell_type": "code",
   "execution_count": 36,
   "metadata": {},
   "outputs": [],
   "source": [
    "def create_weights(train_set):\n",
    "    \n",
    "    #Randomly intialized weights with a Gaussian normal distribution centered around the mean of the trainingset\n",
    "    \n",
    "    mu = np.sqrt(np.mean(train_set.rating.values)/num_features)\n",
    "    std = np.std(train_set.rating.values)/num_features\n",
    "    U = np.random.normal(loc=mu, scale=std, size=(num_users, num_features))\n",
    "    M = np.random.normal(loc=mu, scale=std, size=(num_features, num_movies))\n",
    "    \n",
    "    return U, M"
   ]
  },
  {
   "cell_type": "code",
   "execution_count": null,
   "metadata": {
    "scrolled": true
   },
   "outputs": [],
   "source": [
    "#Define the parameters\n",
    "counter = 0 \n",
    "num_it = 50\n",
    "l_rate = 0.007\n",
    "lambda_reg = 0.020\n",
    "count_time=[]\n",
    "\n",
    "#Intiate empty matrices to store RMSE values for all iterations\n",
    "RMSE_matrix_train = np.zeros((len(training_sets), num_it))\n",
    "RMSE_matrix_test = np.zeros((len(test_sets), num_it))\n",
    "\n",
    "\n",
    "#Loop over every fold\n",
    "for k, (trainset, testset) in enumerate(zip(training_sets, test_sets)):\n",
    "    print('Fold: {}'.format(k))\n",
    "    \n",
    "    start_time = time.time()\n",
    "    \n",
    "    #Initiate weight matrices\n",
    "    U, M = create_weights(trainset)\n",
    "    \n",
    "    #Loop over number of iterations\n",
    "    for n in range(num_it):\n",
    "        \n",
    "        print('Iteration: {}/{}'.format(n, num_it))\n",
    "        #Loop over every user/movie combination in the trainingset of the fold\n",
    "        for i, (m_ID, u_ID) in enumerate(zip(trainset.movie_ID.values, trainset.user_ID.values)):\n",
    "\n",
    "            if counter % 100000 == 0:\n",
    "                print(counter)\n",
    "            \n",
    "            #Get the current prediction of this user/movie combination\n",
    "            pred = np.dot(U[int(u_ID),:],M[:,int(m_ID)])\n",
    "            err = true_ratings[int(u_ID), int(m_ID)] - pred #Error of the prediction\n",
    "\n",
    "            #Update the U and M matrices based on the error\n",
    "            U[int(u_ID),:] = U[int(u_ID),:]+l_rate*(2*err*M[:,int(m_ID)]-lambda_reg*U[int(u_ID),:])\n",
    "            M[:,int(m_ID)] = M[:,int(m_ID)]+l_rate*(2*err*U[int(u_ID),:]-lambda_reg*M[:,int(m_ID)])\n",
    "\n",
    "            #Build in check to see if there are no exploding weights\n",
    "            if (np.isnan(U[int(u_ID),:]) == True).any():\n",
    "                print(U[int(u_ID),:])\n",
    "\n",
    "            counter+=1\n",
    "        \n",
    "        #Final prediction of the fold after training and clipping it between 1 and 5\n",
    "        final_pred_fold = np.clip(np.matmul(U,M), 1,5)\n",
    "        \n",
    "        train_set_true = true_ratings[trainset.user_ID.values, trainset.movie_ID.values]#True ratings of trainset\n",
    "        train_set_predictions = final_pred_fold[trainset.user_ID.values, trainset.movie_ID.values] #predicted ratings of trainset\n",
    "        RMSE_matrix_train[k,n] = np.sqrt(mean_squared_error(train_set_true, train_set_predictions)) #RMSE trainset\n",
    "        \n",
    "        test_set_true = true_ratings[testset.user_ID.values, testset.movie_ID.values] #True ratings of testset\n",
    "        test_set_predictions = final_pred_fold[testset.user_ID.values, testset.movie_ID.values] #Predicted ratings of testset\n",
    "        RMSE_matrix_test[k,n] = np.sqrt(mean_squared_error(test_set_true, test_set_predictions)) #RMSE testset\n",
    "        \n",
    "    elapsed_time = time.time() - start_time\n",
    "    count_time.append(elapsed_time)"
   ]
  },
  {
   "cell_type": "code",
   "execution_count": null,
   "metadata": {},
   "outputs": [],
   "source": [
    "#save the RMSE matrix\n",
    "with open('RMSE_matrix_train'+str(num_it)+'lambda_'+str(lambda_reg)+'l_rate_'+str(l_rate)+'_features_'+str(num_features)+'.pickle', 'wb') as handle:\n",
    "    pickle.dump(RMSE_matrix_train, handle, protocol=pickle.HIGHEST_PROTOCOL)\n",
    "    \n",
    "with open('RMSE_matrix_test'+str(num_it)+'lambda_'+str(lambda_reg)+'l_rate_'+str(l_rate)+'_features_'+str(num_features)+'.pickle', 'wb') as handle:\n",
    "    pickle.dump(RMSE_matrix_test, handle, protocol=pickle.HIGHEST_PROTOCOL)\n",
    "\n",
    "    \n",
    "#save U matrix\n",
    "with open('U_iter_'+str(num_it)+'lambda_'+str(lambda_reg)+'l_rate_'+str(l_rate)+'_features_'+str(num_features)+'.pickle', 'wb') as handle:\n",
    "    pickle.dump(U, handle, protocol=pickle.HIGHEST_PROTOCOL)\n",
    "#save M matrix \n",
    "with open('M_iter_'+str(num_it)+'lambda_'+str(lambda_reg)+'l_rate_'+str(l_rate)+'_features_'+str(num_features)+'.pickle', 'wb') as handle:\n",
    "    pickle.dump(M, handle, protocol=pickle.HIGHEST_PROTOCOL)\n",
    "\n",
    "with open('Time_iter_'+str(num_it)+'lambda_'+str(lambda_reg)+'l_rate_'+str(l_rate)+'_features_'+str(num_features)+'.pickle', 'wb') as handle:\n",
    "    pickle.dump(count_time, handle, protocol=pickle.HIGHEST_PROTOCOL)"
   ]
  },
  {
   "cell_type": "markdown",
   "metadata": {},
   "source": [
    "## Results Gradient Descent Matrix Factorization"
   ]
  },
  {
   "cell_type": "markdown",
   "metadata": {},
   "source": [
    "The model that is used is based on the model used by the Takàcs et al. paper published in 2007. Following the method of Takàcs et al., we take the combination of the learning rate, regularization parameter and number of features that produced the lowest error for their dataset and see how it works on this dataset. The parameters used are:\n",
    "\n",
    "\n",
    "| $\\lambda$ | $\\eta$ | num. features |\n",
    "|-----------|--------|--------------------|\n",
    "| 0.02      | 0.005  | 40\n",
    "\n",
    "On the Netflix dataset used by Takàcs et al., this combination of parameters gives a RMSE of 0.9190. We now apply this method to the MovieLens dataset."
   ]
  },
  {
   "cell_type": "code",
   "execution_count": 42,
   "metadata": {},
   "outputs": [],
   "source": [
    "num_it_read = 50\n",
    "lambda_reg_read = 0.02\n",
    "l_rate_read = 0.005\n",
    "num_feat = 40 #20, 10"
   ]
  },
  {
   "cell_type": "code",
   "execution_count": 43,
   "metadata": {},
   "outputs": [],
   "source": [
    "def read_files(num_it,lambda_reg,l_rate,num_features):\n",
    "    #upload pickle files\n",
    "    with open('RMSE_matrix_train'+str(num_it)+'lambda_'+str(lambda_reg)+'l_rate_'+str(l_rate)+'_features_'+str(num_features)+'.pickle', 'rb') as handle:\n",
    "        RMSE_matrix_train = pickle.load(handle)\n",
    "\n",
    "    with open('RMSE_matrix_test'+str(num_it)+'lambda_'+str(lambda_reg)+'l_rate_'+str(l_rate)+'_features_'+str(num_features)+'.pickle', 'rb') as handle:\n",
    "        RMSE_matrix_test = pickle.load(handle)\n",
    "\n",
    "    with open('U_iter_'+str(num_it)+'lambda_'+str(lambda_reg)+'l_rate_'+str(l_rate)+'_features_'+str(num_features)+'.pickle', 'rb') as handle:\n",
    "        U = pickle.load(handle)\n",
    "\n",
    "    with open('M_iter_'+str(num_it)+'lambda_'+str(lambda_reg)+'l_rate_'+str(l_rate)+'_features_'+str(num_features)+'.pickle', 'rb') as handle:\n",
    "        M = pickle.load(handle)\n",
    "\n",
    "    with open('Time_iter_'+str(num_it)+'lambda_'+str(lambda_reg)+'l_rate_'+str(l_rate)+'_features_'+str(num_features)+'.pickle', 'rb') as handle:\n",
    "        T = pickle.load(handle)\n",
    "   \n",
    "    return RMSE_matrix_train, RMSE_matrix_test, U, M, T "
   ]
  },
  {
   "cell_type": "code",
   "execution_count": 44,
   "metadata": {},
   "outputs": [],
   "source": [
    "def final_error(RMSE_matrix): #the final error is the mean of the folds' errors\n",
    "    eventual_errors = [RMSE_matrix[x][-1] for x in range(5)]\n",
    "    rsme_gd = np.mean(eventual_errors)\n",
    "    return rsme_gd"
   ]
  },
  {
   "cell_type": "code",
   "execution_count": 45,
   "metadata": {},
   "outputs": [],
   "source": [
    "def plot_mean_RSME(RSME_train, RSME_test): #plot the error against the number of iterations\n",
    "    \n",
    "    means_iter_train = [np.mean(RSME_train[:,x]) for x in range(len(RSME_train[0]))]\n",
    "    means_iter_test = [np.mean(RSME_test[:,x]) for x in range(len(RSME_test[0]))]\n",
    "    \n",
    "    \n",
    "    plt.figure(figsize=[14,8])\n",
    "    plt.plot(means_iter_train, lw=2, label='Trainset')\n",
    "    plt.plot(means_iter_test, lw=2, label='Testset')\n",
    "    \n",
    "    plt.xlabel('Iteration', fontsize=18)\n",
    "    plt.ylabel('Root Mean Squared Error', fontsize=18)\n",
    "    \n",
    "    plt.xticks(fontsize=18)\n",
    "    plt.yticks(fontsize=18)\n",
    "    plt.legend(fontsize=18)\n",
    "    \n",
    "    plt.title('Regulation Parameter: {}, Learning Rate: {}, Number of Features: {}'.format(lambda_reg_read,l_rate_read,num_feat), fontsize=16)"
   ]
  },
  {
   "cell_type": "code",
   "execution_count": 54,
   "metadata": {},
   "outputs": [
    {
     "name": "stdout",
     "output_type": "stream",
     "text": [
      "Total time to run the model: 15951.8 s\n"
     ]
    },
    {
     "data": {
      "image/png": "[encoded data removed]",
      "text/plain": [
       "<Figure size 1008x576 with 1 Axes>"
      ]
     },
     "metadata": {
      "needs_background": "light"
     },
     "output_type": "display_data"
    }
   ],
   "source": [
    "RMSE_matrix_train, RMSE_matrix_test, U, M, T = read_files(num_it_read,lambda_reg_read,l_rate_read,num_feat)\n",
    "plot_mean_RSME(RMSE_matrix_train,RMSE_matrix_test)\n",
    "\n",
    "print('Total time to run the model:',round(np.sum(T),1),'s')"
   ]
  },
  {
   "cell_type": "markdown",
   "metadata": {},
   "source": [
    "The above figure displays the results of the combinations of parameters mentioned above. This combination produced the lowest error on the Netflix dataset used by Takàcs et al. It is clear that the matrix factorization method works for the purpose of reducing the trainingset error. However, the testset error, after decreasing for a few iterations, keeps increasing. This is a clear sign of overfitting. The model adapts well to the trainingdata, but specializes to such an extend, that it is not generally applicable to data it has not seen yet (the testset). Considering the fact that the Netflix data used by Takàcs et al. is much larger than the dataset from MovieLens used in this notebook 100 million vs. 1 million samples), the number of features might be the cause of the overfitting. There could be too many features for the complexity of the data. To test this hypothesis, the model is trained again, with the same learning rate and regularization parameter, but now with 20 features instead of 40. "
   ]
  },
  {
   "cell_type": "code",
   "execution_count": 55,
   "metadata": {},
   "outputs": [
    {
     "name": "stdout",
     "output_type": "stream",
     "text": [
      "Total time to run the model: 7128.4 s\n"
     ]
    },
    {
     "data": {
      "image/png": "[encoded data removed]",
      "text/plain": [
       "<Figure size 1008x576 with 1 Axes>"
      ]
     },
     "metadata": {
      "needs_background": "light"
     },
     "output_type": "display_data"
    }
   ],
   "source": [
    "num_feat=20\n",
    "RMSE_matrix_train, RMSE_matrix_test, U, M, T = read_files(num_it_read,lambda_reg_read,l_rate_read,num_feat)\n",
    "plot_mean_RSME(RMSE_matrix_train,RMSE_matrix_test)\n",
    "print('Total time to run the model:',round(np.sum(T),1),'s')"
   ]
  },
  {
   "cell_type": "markdown",
   "metadata": {},
   "source": [
    "The overfitting is clearly happening to a lesser extent with 20 features than with 40 features, but it is still evident in the figure shown above. We run the model again, but this time with 10 features."
   ]
  },
  {
   "cell_type": "code",
   "execution_count": 56,
   "metadata": {},
   "outputs": [
    {
     "name": "stdout",
     "output_type": "stream",
     "text": [
      "Total time to run the model: 7259.8 s\n"
     ]
    },
    {
     "data": {
      "image/png": "[encoded data removed]",
      "text/plain": [
       "<Figure size 1008x576 with 1 Axes>"
      ]
     },
     "metadata": {
      "needs_background": "light"
     },
     "output_type": "display_data"
    }
   ],
   "source": [
    "num_feat=10\n",
    "RMSE_matrix_train, RMSE_matrix_test, U, M, T = read_files(num_it_read,lambda_reg_read,l_rate_read,num_feat)\n",
    "plot_mean_RSME(RMSE_matrix_train,RMSE_matrix_test)\n",
    "print('Total time to run the model:',round(np.sum(T),1),'s')"
   ]
  },
  {
   "cell_type": "markdown",
   "metadata": {},
   "source": [
    "This model works much better and the overfitting is clearly reduced when compared to the model with 40 features. This goes to show that the learning rate and regularization parameter values that worked for the dataset Takàcs et al. used, also seem to work well for this dataset, but the number of features needs to be reduced in order to adapt to the smaller size of the dataset. \n",
    "\n",
    "The eventual RMSE of this model is 0.7690 for the trainingset, and 0.8793 for the testset.\n",
    "\n",
    "All of the errors can be seen in the table below. Every model ran for 50 iterations over all samples.\n",
    "\n",
    " | num. features | RMSE train | RMSE test | Run time (s) |\n",
    "|---------------|------------|-----------|--------------|\n",
    "| 40            | 0.5809     | 0.9485    | 15951.8     |\n",
    "| 20            | 0.6942     | 0.9059    | 7128.4      |\n",
    "| 10            | 0.7690     | 0.8793    | 7259.8     |\n",
    "\n",
    "\n",
    "The model that works best is the model with 10 features, which has a RMSE of 0.88 on the testset. This is smaller than the errors for the naive methods. The naive method that works the best is the linear combination model. This model has a RMSE of 0.92 on both the trainset and the testset. "
   ]
  },
  {
   "cell_type": "markdown",
   "metadata": {},
   "source": [
    "The table above displays the interesting effect of overfitting, and emphasizes the importance of splitting a dataset into a trainset and a testset. Even though the error on the trainset increases as the number of features decreases, the error on the testset decreases. This is because the model with 40 features, where the overfitting happens the most, the model adapts very well to the train data, but not to the test data. Even though the error on the trainset is worse for the model with 10 features, the model is more generally applicable, and works better on data it has not seen yet. "
   ]
  },
  {
   "cell_type": "markdown",
   "metadata": {},
   "source": [
    "### An Aside: Rounding the Predictions\n",
    "\n",
    "One notable aspect of this recommendation system, is that the users are only able to give a rating of 1, 2, 3, 4 or 5, i.e. integers. In the models above, we have assumed that ratings that are not integers are also possible and the errors have been calculated based on predictions that are often non-integer numbers. In reality, if one wants to use this model as a true predictor of what rating the user would give to a movie, the prediction needs to be rounded to the closest integer. This will most likely result in a different RMSE. As such, that error value is arguably a more realistic reflection of how well the model works to predict user ratings. "
   ]
  }
 ],
 "metadata": {
  "kernelspec": {
   "display_name": "Python 3",
   "language": "python",
   "name": "python3"
  },
  "language_info": {
   "codemirror_mode": {
    "name": "ipython",
    "version": 3
   },
   "file_extension": ".py",
   "mimetype": "text/x-python",
   "name": "python",
   "nbconvert_exporter": "python",
   "pygments_lexer": "ipython3",
   "version": "3.7.2"
  }
 },
 "nbformat": 4,
 "nbformat_minor": 2
}
